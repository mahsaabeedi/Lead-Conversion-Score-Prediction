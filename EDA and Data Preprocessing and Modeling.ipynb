{
 "cells": [
  {
   "cell_type": "code",
   "execution_count": 1,
   "id": "behavioral-event",
   "metadata": {},
   "outputs": [],
   "source": [
    "# importing required libraries\n",
    "import pandas as pd\n",
    "import numpy as np\n",
    "import matplotlib.pyplot as plt\n",
    "import seaborn as sns\n",
    "\n",
    "from sklearn.model_selection import train_test_split\n",
    "from sklearn.preprocessing import StandardScaler, OneHotEncoder, OrdinalEncoder"
   ]
  },
  {
   "cell_type": "markdown",
   "id": "original-still",
   "metadata": {},
   "source": [
    "### 1. Reading Data"
   ]
  },
  {
   "cell_type": "code",
   "execution_count": 2,
   "id": "greenhouse-patrol",
   "metadata": {},
   "outputs": [],
   "source": [
    "# reading data from csv file, data is separated by ;\n",
    "data = pd.read_csv('bank-additional-full.csv', ';')"
   ]
  },
  {
   "cell_type": "code",
   "execution_count": 3,
   "id": "certified-incidence",
   "metadata": {
    "scrolled": false
   },
   "outputs": [
    {
     "name": "stdout",
     "output_type": "stream",
     "text": [
      "<class 'pandas.core.frame.DataFrame'>\n",
      "RangeIndex: 41188 entries, 0 to 41187\n",
      "Data columns (total 21 columns):\n",
      " #   Column          Non-Null Count  Dtype  \n",
      "---  ------          --------------  -----  \n",
      " 0   age             41188 non-null  int64  \n",
      " 1   job             41188 non-null  object \n",
      " 2   marital         41188 non-null  object \n",
      " 3   education       41188 non-null  object \n",
      " 4   default         41188 non-null  object \n",
      " 5   housing         41188 non-null  object \n",
      " 6   loan            41188 non-null  object \n",
      " 7   contact         41188 non-null  object \n",
      " 8   month           41188 non-null  object \n",
      " 9   day_of_week     41188 non-null  object \n",
      " 10  duration        41188 non-null  int64  \n",
      " 11  campaign        41188 non-null  int64  \n",
      " 12  pdays           41188 non-null  int64  \n",
      " 13  previous        41188 non-null  int64  \n",
      " 14  poutcome        41188 non-null  object \n",
      " 15  emp.var.rate    41188 non-null  float64\n",
      " 16  cons.price.idx  41188 non-null  float64\n",
      " 17  cons.conf.idx   41188 non-null  float64\n",
      " 18  euribor3m       41188 non-null  float64\n",
      " 19  nr.employed     41188 non-null  float64\n",
      " 20  y               41188 non-null  object \n",
      "dtypes: float64(5), int64(5), object(11)\n",
      "memory usage: 6.6+ MB\n"
     ]
    }
   ],
   "source": [
    "data.info()"
   ]
  },
  {
   "cell_type": "markdown",
   "id": "central-venice",
   "metadata": {},
   "source": [
    "### 2. Dataset overview"
   ]
  },
  {
   "cell_type": "markdown",
   "id": "protected-nelson",
   "metadata": {},
   "source": [
    "* Total Number of data points: 41188\n",
    "* Number of independent/input variables: 20\n",
    "* Number of dependent varibale/label: 1\n",
    "* Out of 20 variables...\n",
    "    - 10 categorical features [job, marital, education, default, housing, loan, contact, month, day_of_week, poutcome]\n",
    "    - 10 numerical features [age, duration, campaign, pdays, previous, emp.var.rate, cons.price.idx, cons.conf.idx, euribor3m, nr.employed]\n",
    "* There are no NULL values in any of the columns, some categorical variables are already filled with 'unknown' for missing values"
   ]
  },
  {
   "cell_type": "code",
   "execution_count": 23,
   "id": "difficult-michael",
   "metadata": {
    "scrolled": true
   },
   "outputs": [
    {
     "name": "stdout",
     "output_type": "stream",
     "text": [
      "First 5 rows of the dataset: \n"
     ]
    },
    {
     "data": {
      "text/html": [
       "<div>\n",
       "<style scoped>\n",
       "    .dataframe tbody tr th:only-of-type {\n",
       "        vertical-align: middle;\n",
       "    }\n",
       "\n",
       "    .dataframe tbody tr th {\n",
       "        vertical-align: top;\n",
       "    }\n",
       "\n",
       "    .dataframe thead th {\n",
       "        text-align: right;\n",
       "    }\n",
       "</style>\n",
       "<table border=\"1\" class=\"dataframe\">\n",
       "  <thead>\n",
       "    <tr style=\"text-align: right;\">\n",
       "      <th></th>\n",
       "      <th>age</th>\n",
       "      <th>job</th>\n",
       "      <th>marital</th>\n",
       "      <th>education</th>\n",
       "      <th>default</th>\n",
       "      <th>housing</th>\n",
       "      <th>loan</th>\n",
       "      <th>contact</th>\n",
       "      <th>month</th>\n",
       "      <th>day_of_week</th>\n",
       "      <th>...</th>\n",
       "      <th>campaign</th>\n",
       "      <th>pdays</th>\n",
       "      <th>previous</th>\n",
       "      <th>poutcome</th>\n",
       "      <th>emp.var.rate</th>\n",
       "      <th>cons.price.idx</th>\n",
       "      <th>cons.conf.idx</th>\n",
       "      <th>euribor3m</th>\n",
       "      <th>nr.employed</th>\n",
       "      <th>y</th>\n",
       "    </tr>\n",
       "  </thead>\n",
       "  <tbody>\n",
       "    <tr>\n",
       "      <th>0</th>\n",
       "      <td>56</td>\n",
       "      <td>housemaid</td>\n",
       "      <td>married</td>\n",
       "      <td>basic.4y</td>\n",
       "      <td>no</td>\n",
       "      <td>no</td>\n",
       "      <td>no</td>\n",
       "      <td>telephone</td>\n",
       "      <td>may</td>\n",
       "      <td>mon</td>\n",
       "      <td>...</td>\n",
       "      <td>1</td>\n",
       "      <td>999</td>\n",
       "      <td>0</td>\n",
       "      <td>nonexistent</td>\n",
       "      <td>1.1</td>\n",
       "      <td>93.994</td>\n",
       "      <td>-36.4</td>\n",
       "      <td>4.857</td>\n",
       "      <td>5191.0</td>\n",
       "      <td>no</td>\n",
       "    </tr>\n",
       "    <tr>\n",
       "      <th>1</th>\n",
       "      <td>57</td>\n",
       "      <td>services</td>\n",
       "      <td>married</td>\n",
       "      <td>high.school</td>\n",
       "      <td>unknown</td>\n",
       "      <td>no</td>\n",
       "      <td>no</td>\n",
       "      <td>telephone</td>\n",
       "      <td>may</td>\n",
       "      <td>mon</td>\n",
       "      <td>...</td>\n",
       "      <td>1</td>\n",
       "      <td>999</td>\n",
       "      <td>0</td>\n",
       "      <td>nonexistent</td>\n",
       "      <td>1.1</td>\n",
       "      <td>93.994</td>\n",
       "      <td>-36.4</td>\n",
       "      <td>4.857</td>\n",
       "      <td>5191.0</td>\n",
       "      <td>no</td>\n",
       "    </tr>\n",
       "    <tr>\n",
       "      <th>2</th>\n",
       "      <td>37</td>\n",
       "      <td>services</td>\n",
       "      <td>married</td>\n",
       "      <td>high.school</td>\n",
       "      <td>no</td>\n",
       "      <td>yes</td>\n",
       "      <td>no</td>\n",
       "      <td>telephone</td>\n",
       "      <td>may</td>\n",
       "      <td>mon</td>\n",
       "      <td>...</td>\n",
       "      <td>1</td>\n",
       "      <td>999</td>\n",
       "      <td>0</td>\n",
       "      <td>nonexistent</td>\n",
       "      <td>1.1</td>\n",
       "      <td>93.994</td>\n",
       "      <td>-36.4</td>\n",
       "      <td>4.857</td>\n",
       "      <td>5191.0</td>\n",
       "      <td>no</td>\n",
       "    </tr>\n",
       "    <tr>\n",
       "      <th>3</th>\n",
       "      <td>40</td>\n",
       "      <td>admin.</td>\n",
       "      <td>married</td>\n",
       "      <td>basic.6y</td>\n",
       "      <td>no</td>\n",
       "      <td>no</td>\n",
       "      <td>no</td>\n",
       "      <td>telephone</td>\n",
       "      <td>may</td>\n",
       "      <td>mon</td>\n",
       "      <td>...</td>\n",
       "      <td>1</td>\n",
       "      <td>999</td>\n",
       "      <td>0</td>\n",
       "      <td>nonexistent</td>\n",
       "      <td>1.1</td>\n",
       "      <td>93.994</td>\n",
       "      <td>-36.4</td>\n",
       "      <td>4.857</td>\n",
       "      <td>5191.0</td>\n",
       "      <td>no</td>\n",
       "    </tr>\n",
       "    <tr>\n",
       "      <th>4</th>\n",
       "      <td>56</td>\n",
       "      <td>services</td>\n",
       "      <td>married</td>\n",
       "      <td>high.school</td>\n",
       "      <td>no</td>\n",
       "      <td>no</td>\n",
       "      <td>yes</td>\n",
       "      <td>telephone</td>\n",
       "      <td>may</td>\n",
       "      <td>mon</td>\n",
       "      <td>...</td>\n",
       "      <td>1</td>\n",
       "      <td>999</td>\n",
       "      <td>0</td>\n",
       "      <td>nonexistent</td>\n",
       "      <td>1.1</td>\n",
       "      <td>93.994</td>\n",
       "      <td>-36.4</td>\n",
       "      <td>4.857</td>\n",
       "      <td>5191.0</td>\n",
       "      <td>no</td>\n",
       "    </tr>\n",
       "  </tbody>\n",
       "</table>\n",
       "<p>5 rows × 21 columns</p>\n",
       "</div>"
      ],
      "text/plain": [
       "   age        job  marital    education  default housing loan    contact  \\\n",
       "0   56  housemaid  married     basic.4y       no      no   no  telephone   \n",
       "1   57   services  married  high.school  unknown      no   no  telephone   \n",
       "2   37   services  married  high.school       no     yes   no  telephone   \n",
       "3   40     admin.  married     basic.6y       no      no   no  telephone   \n",
       "4   56   services  married  high.school       no      no  yes  telephone   \n",
       "\n",
       "  month day_of_week  ...  campaign  pdays  previous     poutcome emp.var.rate  \\\n",
       "0   may         mon  ...         1    999         0  nonexistent          1.1   \n",
       "1   may         mon  ...         1    999         0  nonexistent          1.1   \n",
       "2   may         mon  ...         1    999         0  nonexistent          1.1   \n",
       "3   may         mon  ...         1    999         0  nonexistent          1.1   \n",
       "4   may         mon  ...         1    999         0  nonexistent          1.1   \n",
       "\n",
       "   cons.price.idx  cons.conf.idx  euribor3m  nr.employed   y  \n",
       "0          93.994          -36.4      4.857       5191.0  no  \n",
       "1          93.994          -36.4      4.857       5191.0  no  \n",
       "2          93.994          -36.4      4.857       5191.0  no  \n",
       "3          93.994          -36.4      4.857       5191.0  no  \n",
       "4          93.994          -36.4      4.857       5191.0  no  \n",
       "\n",
       "[5 rows x 21 columns]"
      ]
     },
     "execution_count": 23,
     "metadata": {},
     "output_type": "execute_result"
    }
   ],
   "source": [
    "# print first 5 roes of the dataset\n",
    "print(\"First 5 rows of the dataset: \")\n",
    "data.head()"
   ]
  },
  {
   "cell_type": "code",
   "execution_count": 3,
   "id": "blond-quantity",
   "metadata": {
    "scrolled": true
   },
   "outputs": [
    {
     "name": "stdout",
     "output_type": "stream",
     "text": [
      "Number of leads in dataset:  41188\n",
      "Number of leads converted: 4640  which is  11.265417111780131 % of total leads. \n",
      "88.73458288821988 % leads are not converted to customers.\n"
     ]
    }
   ],
   "source": [
    "num_rows = data.shape[0]\n",
    "print(\"Number of leads in dataset: \", num_rows)\n",
    "conv_leads = data[data.y=='yes'].shape[0]\n",
    "print(\"Number of leads converted:\", conv_leads,\" which is \", (conv_leads/data.shape[0]*100),\"% of total leads. \")\n",
    "print(((data.shape[0]-conv_leads)/data.shape[0]*100),\"% leads are not converted to customers.\")"
   ]
  },
  {
   "cell_type": "markdown",
   "id": "frank-count",
   "metadata": {},
   "source": [
    "* Data is imbalanced, only 11.3% of the total data points belongs to positive class and the remaining 88.7% data points belong to negative class. Positive class is denoted by <b><i>1</i></b> and the negative by <b><i>0</i></b> in our dataset."
   ]
  },
  {
   "cell_type": "code",
   "execution_count": 4,
   "id": "planned-florist",
   "metadata": {},
   "outputs": [],
   "source": [
    "cat_features = ['job', 'marital', 'education', 'default', 'housing', 'loan', 'contact', 'month', 'day_of_week', 'poutcome']\n",
    "num_features = ['age', 'duration', 'campaign', 'pdays', 'previous', 'emp.var.rate', 'cons.price.idx', 'cons.conf.idx', 'euribor3m', 'nr.employed']"
   ]
  },
  {
   "cell_type": "markdown",
   "id": "fleet-recognition",
   "metadata": {},
   "source": [
    "### 3. Exploratory Data Analysis"
   ]
  },
  {
   "cell_type": "markdown",
   "id": "improved-blowing",
   "metadata": {},
   "source": [
    "#### 3.1 Univariate Analysis"
   ]
  },
  {
   "cell_type": "code",
   "execution_count": 8,
   "id": "correct-receipt",
   "metadata": {
    "scrolled": true
   },
   "outputs": [
    {
     "name": "stdout",
     "output_type": "stream",
     "text": [
      "(4640, 21) (36548, 21)\n"
     ]
    }
   ],
   "source": [
    "data_p = data.loc[data.y=='yes'] # postive data instances - converted leads\n",
    "data_n = data.loc[data.y=='no'] # negative data instances - not converted leads\n",
    "\n",
    "print(data_p.shape, data_n.shape)"
   ]
  },
  {
   "cell_type": "markdown",
   "id": "essential-stand",
   "metadata": {},
   "source": [
    "##### 3.1.1 Univariate Analysis: Duration"
   ]
  },
  {
   "cell_type": "code",
   "execution_count": 5,
   "id": "photographic-parliament",
   "metadata": {
    "scrolled": false
   },
   "outputs": [
    {
     "data": {
      "image/png": "[encoded data removed]",
      "text/plain": [
       "<Figure size 432x288 with 1 Axes>"
      ]
     },
     "metadata": {},
     "output_type": "display_data"
    }
   ],
   "source": [
    "# box plot for call duration\n",
    "sns.set_style(\"whitegrid\")\n",
    "sns.boxplot(x='y', y='duration', data=data)\n",
    "plt.xlabel('Lead Conversion')\n",
    "plt.ylabel('Call Duration')\n",
    "plt.title('Box plot for last call duration')\n",
    "plt.show()"
   ]
  },
  {
   "cell_type": "markdown",
   "id": "excited-creature",
   "metadata": {},
   "source": [
    "* From the above box plot, it can be clearly observed that the rate of conversion is high if the call duration is long. There is some overlap between the both classes when call duration is low. \n",
    "* It seems there are some outliers in data in terms of call duration "
   ]
  },
  {
   "cell_type": "code",
   "execution_count": 100,
   "id": "exceptional-underground",
   "metadata": {},
   "outputs": [
    {
     "name": "stdout",
     "output_type": "stream",
     "text": [
      "99.9 percentile value for call duration:  2175.5850000000864\n",
      "Number of data points above the 99.9 percentile range:  (42, 21)\n"
     ]
    }
   ],
   "source": [
    "per = np.percentile(data.duration, 99.9)\n",
    "print(\"99.9 percentile value for call duration: \", per)\n",
    "print(\"Number of data points above the 99.9 percentile range: \", data[data.duration>per].shape)"
   ]
  },
  {
   "cell_type": "markdown",
   "id": "beginning-gross",
   "metadata": {},
   "source": [
    "* We can remove 42 rows from data while modeling as they have very high call duration than normal "
   ]
  },
  {
   "cell_type": "markdown",
   "id": "hazardous-punishment",
   "metadata": {},
   "source": [
    "##### 3.1.2 Univariate Analysis: Age"
   ]
  },
  {
   "cell_type": "code",
   "execution_count": 69,
   "id": "empty-phoenix",
   "metadata": {
    "scrolled": true
   },
   "outputs": [
    {
     "data": {
      "image/png": "[encoded data removed]",
      "text/plain": [
       "<Figure size 432x288 with 1 Axes>"
      ]
     },
     "metadata": {},
     "output_type": "display_data"
    }
   ],
   "source": [
    "# box plot for age attribute\n",
    "sns.set_style(\"whitegrid\")\n",
    "sns.boxplot(x='y', y='age', data=data)\n",
    "plt.xlabel('Lead Conversion')\n",
    "plt.ylabel('Client Age')\n",
    "plt.title('Box plot for client age')\n",
    "plt.show()"
   ]
  },
  {
   "cell_type": "markdown",
   "id": "pleased-obligation",
   "metadata": {},
   "source": [
    "* From the above box plot for age attribute, Age attribute alone does not have much impact on lead conversion."
   ]
  },
  {
   "cell_type": "code",
   "execution_count": 17,
   "id": "amino-magic",
   "metadata": {
    "scrolled": true
   },
   "outputs": [
    {
     "data": {
      "image/png": "[encoded data removed]",
      "text/plain": [
       "<Figure size 432x288 with 1 Axes>"
      ]
     },
     "metadata": {
      "needs_background": "light"
     },
     "output_type": "display_data"
    }
   ],
   "source": [
    "# plotting CDF for age feature with pyplot\n",
    "counts, bin_edges = np.histogram(data_p['age'], bins=20, density = True)\n",
    "pdf = counts / sum(counts)\n",
    "\n",
    "cdf = np.cumsum(pdf)\n",
    "plt.plot(bin_edges[1:], pdf, label='Converted Leads PDF')\n",
    "plt.plot(bin_edges[1:], cdf, label='Converted Leads CDF')\n",
    "\n",
    "counts, bin_edges = np.histogram(data_n['age'], bins=20, density = True)\n",
    "pdf = counts / sum(counts)\n",
    "\n",
    "cdf = np.cumsum(pdf)\n",
    "plt.plot(bin_edges[1:],pdf, label='Not Converted Leads PDF')\n",
    "plt.plot(bin_edges[1:],cdf, label='Not Converted Leads CDF')\n",
    "\n",
    "plt.xlabel('Age')\n",
    "plt.ylabel('Probability')\n",
    "plt.title('Cumulative Distribution Function of Age feature')\n",
    "plt.grid()\n",
    "plt.legend()\n",
    "plt.show();\n",
    "\n",
    "# sns.displot(hsd, x=\"age\", hue='survival_status', kind='ecdf')\n",
    "# plt.show()"
   ]
  },
  {
   "cell_type": "markdown",
   "id": "applicable-conducting",
   "metadata": {},
   "source": [
    "* From the above plot, we can observe by looking at the CDF curces, the rate of conversion is slightly decreasing as age is increasing.\n",
    "* Rate of lead conversion is slighly higher in people below 40 years age, the people above 40 years."
   ]
  },
  {
   "cell_type": "markdown",
   "id": "union-punishment",
   "metadata": {},
   "source": [
    "##### 3.1.3 Univariate Analysis: Job"
   ]
  },
  {
   "cell_type": "code",
   "execution_count": 26,
   "id": "exempt-emergency",
   "metadata": {},
   "outputs": [
    {
     "data": {
      "text/html": [
       "<div>\n",
       "<style scoped>\n",
       "    .dataframe tbody tr th:only-of-type {\n",
       "        vertical-align: middle;\n",
       "    }\n",
       "\n",
       "    .dataframe tbody tr th {\n",
       "        vertical-align: top;\n",
       "    }\n",
       "\n",
       "    .dataframe thead th {\n",
       "        text-align: right;\n",
       "    }\n",
       "</style>\n",
       "<table border=\"1\" class=\"dataframe\">\n",
       "  <thead>\n",
       "    <tr style=\"text-align: right;\">\n",
       "      <th>y</th>\n",
       "      <th>no</th>\n",
       "      <th>yes</th>\n",
       "    </tr>\n",
       "    <tr>\n",
       "      <th>job</th>\n",
       "      <th></th>\n",
       "      <th></th>\n",
       "    </tr>\n",
       "  </thead>\n",
       "  <tbody>\n",
       "    <tr>\n",
       "      <th>admin.</th>\n",
       "      <td>9070</td>\n",
       "      <td>1352</td>\n",
       "    </tr>\n",
       "    <tr>\n",
       "      <th>blue-collar</th>\n",
       "      <td>8616</td>\n",
       "      <td>638</td>\n",
       "    </tr>\n",
       "    <tr>\n",
       "      <th>entrepreneur</th>\n",
       "      <td>1332</td>\n",
       "      <td>124</td>\n",
       "    </tr>\n",
       "    <tr>\n",
       "      <th>housemaid</th>\n",
       "      <td>954</td>\n",
       "      <td>106</td>\n",
       "    </tr>\n",
       "    <tr>\n",
       "      <th>management</th>\n",
       "      <td>2596</td>\n",
       "      <td>328</td>\n",
       "    </tr>\n",
       "    <tr>\n",
       "      <th>retired</th>\n",
       "      <td>1286</td>\n",
       "      <td>434</td>\n",
       "    </tr>\n",
       "    <tr>\n",
       "      <th>self-employed</th>\n",
       "      <td>1272</td>\n",
       "      <td>149</td>\n",
       "    </tr>\n",
       "    <tr>\n",
       "      <th>services</th>\n",
       "      <td>3646</td>\n",
       "      <td>323</td>\n",
       "    </tr>\n",
       "    <tr>\n",
       "      <th>student</th>\n",
       "      <td>600</td>\n",
       "      <td>275</td>\n",
       "    </tr>\n",
       "    <tr>\n",
       "      <th>technician</th>\n",
       "      <td>6013</td>\n",
       "      <td>730</td>\n",
       "    </tr>\n",
       "    <tr>\n",
       "      <th>unemployed</th>\n",
       "      <td>870</td>\n",
       "      <td>144</td>\n",
       "    </tr>\n",
       "    <tr>\n",
       "      <th>unknown</th>\n",
       "      <td>293</td>\n",
       "      <td>37</td>\n",
       "    </tr>\n",
       "  </tbody>\n",
       "</table>\n",
       "</div>"
      ],
      "text/plain": [
       "y                no   yes\n",
       "job                      \n",
       "admin.         9070  1352\n",
       "blue-collar    8616   638\n",
       "entrepreneur   1332   124\n",
       "housemaid       954   106\n",
       "management     2596   328\n",
       "retired        1286   434\n",
       "self-employed  1272   149\n",
       "services       3646   323\n",
       "student         600   275\n",
       "technician     6013   730\n",
       "unemployed      870   144\n",
       "unknown         293    37"
      ]
     },
     "execution_count": 26,
     "metadata": {},
     "output_type": "execute_result"
    }
   ],
   "source": [
    "ch_d = pd.crosstab(index=data['job'], columns=data['y'])\n",
    "ch_d\n"
   ]
  },
  {
   "cell_type": "code",
   "execution_count": 29,
   "id": "fuzzy-christian",
   "metadata": {},
   "outputs": [],
   "source": [
    "# define a function to plot categorical variables - bar charts\n",
    "# concept taken from https://adataanalyst.com/data-analysis-resources/visualise-categorical-variables-in-python/\n",
    "def bar_chart(data, col1, col2='y', chart='yes', top=10):\n",
    "    # chart_data = data.groupby([col1,col2]).size()\n",
    "    # chart_data = chart_data.reset_index(name='count').sort_values(by=['count'], ascending=False)\n",
    "    # chart_data.size()\n",
    "    # print(chart_data)\n",
    "    chart_data = pd.crosstab(index=data[col1], columns=data[col2])\n",
    "    chart_data['total'] = chart_data['no'] + chart_data['yes']\n",
    "    chart_data.sort_values(by=['total'], inplace=True, ascending=False)\n",
    "    chart_data.drop('total', axis='columns', inplace=True)\n",
    "    # print((chart_data))\n",
    "    \n",
    "    if(chart=='yes'): \n",
    "        chart_data.plot(kind='bar', figsize=(8,8), stacked=True)\n",
    "        plt.xlabel(col1)\n",
    "        plt.ylabel('Count')\n",
    "        plt.title('% of leads converted - '+col1+' wise')\n",
    "        plt.show()\n",
    "    \n",
    "    # print top 5 \n",
    "    chart_data['conv_percent'] = chart_data['yes'] / (chart_data['no'] + chart_data['yes'])\n",
    "    print(chart_data.head(top))\n",
    "    \n",
    "    # chart_data.plot.bar(stacked=True)    "
   ]
  },
  {
   "cell_type": "code",
   "execution_count": 30,
   "id": "corrected-relationship",
   "metadata": {
    "scrolled": true
   },
   "outputs": [
    {
     "data": {
      "image/png": "[encoded data removed]",
      "text/plain": [
       "<Figure size 576x576 with 1 Axes>"
      ]
     },
     "metadata": {
      "needs_background": "light"
     },
     "output_type": "display_data"
    },
    {
     "name": "stdout",
     "output_type": "stream",
     "text": [
      "y                no   yes  conv_percent\n",
      "job                                    \n",
      "admin.         9070  1352      0.129726\n",
      "blue-collar    8616   638      0.068943\n",
      "technician     6013   730      0.108260\n",
      "services       3646   323      0.081381\n",
      "management     2596   328      0.112175\n",
      "retired        1286   434      0.252326\n",
      "entrepreneur   1332   124      0.085165\n",
      "self-employed  1272   149      0.104856\n",
      "housemaid       954   106      0.100000\n",
      "unemployed      870   144      0.142012\n",
      "student         600   275      0.314286\n",
      "unknown         293    37      0.112121\n"
     ]
    }
   ],
   "source": [
    "bar_chart(data, 'job', 'y', 'yes', 15)"
   ]
  },
  {
   "cell_type": "markdown",
   "id": "accepted-header",
   "metadata": {},
   "source": [
    "* It appears rate of conversion is high for people who are students and retired employees."
   ]
  },
  {
   "cell_type": "markdown",
   "id": "judicial-landscape",
   "metadata": {},
   "source": [
    "##### 3.1.4 Univariate Analysis: Marital"
   ]
  },
  {
   "cell_type": "code",
   "execution_count": 18,
   "id": "activated-baltimore",
   "metadata": {
    "scrolled": true
   },
   "outputs": [
    {
     "name": "stdout",
     "output_type": "stream",
     "text": [
      "y            no   yes  conv_percent\n",
      "marital                            \n",
      "married   22396  2532      0.101573\n",
      "single     9948  1620      0.140041\n",
      "divorced   4136   476      0.103209\n",
      "unknown      68    12      0.150000\n"
     ]
    }
   ],
   "source": [
    "bar_chart(data, 'marital', 'y', 'no')"
   ]
  },
  {
   "cell_type": "markdown",
   "id": "smaller-bristol",
   "metadata": {},
   "source": [
    "* Conversion rate varies between 10% to 15% irrespective of marital status\n",
    "* Conversion rate is slightly higher in people who are Single "
   ]
  },
  {
   "cell_type": "markdown",
   "id": "supreme-wyoming",
   "metadata": {},
   "source": [
    "##### 3.1.5 Univariate Analysis: Education"
   ]
  },
  {
   "cell_type": "code",
   "execution_count": 19,
   "id": "thermal-triumph",
   "metadata": {},
   "outputs": [
    {
     "name": "stdout",
     "output_type": "stream",
     "text": [
      "y                       no   yes  conv_percent\n",
      "education                                     \n",
      "university.degree    10498  1670      0.137245\n",
      "high.school           8484  1031      0.108355\n",
      "basic.9y              5572   473      0.078246\n",
      "professional.course   4648   595      0.113485\n",
      "basic.4y              3748   428      0.102490\n",
      "basic.6y              2104   188      0.082024\n",
      "unknown               1480   251      0.145003\n",
      "illiterate              14     4      0.222222\n"
     ]
    }
   ],
   "source": [
    "bar_chart(data, 'education', 'y', 'no')"
   ]
  },
  {
   "cell_type": "markdown",
   "id": "friendly-shareware",
   "metadata": {},
   "source": [
    "* Conversion rate varies between 7% to 15% among all education qualifications, except illiterate which is very small number of instances\n",
    "* Education is \"unknown\" for around 4% of the data points"
   ]
  },
  {
   "cell_type": "markdown",
   "id": "unable-hampton",
   "metadata": {},
   "source": [
    "##### 3.1.6 Univariate Analysis: default"
   ]
  },
  {
   "cell_type": "code",
   "execution_count": 22,
   "id": "published-frost",
   "metadata": {
    "scrolled": true
   },
   "outputs": [
    {
     "data": {
      "image/png": "[encoded data removed]",
      "text/plain": [
       "<Figure size 576x576 with 1 Axes>"
      ]
     },
     "metadata": {
      "needs_background": "light"
     },
     "output_type": "display_data"
    },
    {
     "name": "stdout",
     "output_type": "stream",
     "text": [
      "y           no   yes  conv_percent\n",
      "default                           \n",
      "no       28391  4197       0.12879\n",
      "unknown   8154   443       0.05153\n",
      "yes          3     0       0.00000\n"
     ]
    }
   ],
   "source": [
    "bar_chart(data, 'default', 'y')"
   ]
  },
  {
   "cell_type": "markdown",
   "id": "bored-houston",
   "metadata": {},
   "source": [
    "* People who are not loan defaulters have highest subscription rate to term deposites\n",
    "* Around 21% of the data instances having unknown default status"
   ]
  },
  {
   "cell_type": "markdown",
   "id": "surprising-welding",
   "metadata": {},
   "source": [
    "##### 3.1.7 Univariate Analysis: Housing"
   ]
  },
  {
   "cell_type": "code",
   "execution_count": 24,
   "id": "supported-digest",
   "metadata": {
    "scrolled": false
   },
   "outputs": [
    {
     "name": "stdout",
     "output_type": "stream",
     "text": [
      "y           no   yes  conv_percent\n",
      "housing                           \n",
      "yes      19069  2507      0.116194\n",
      "no       16596  2026      0.108796\n",
      "unknown    883   107      0.108081\n"
     ]
    }
   ],
   "source": [
    "bar_chart(data, 'housing', 'y', 'no')"
   ]
  },
  {
   "cell_type": "markdown",
   "id": "disciplinary-saturn",
   "metadata": {},
   "source": [
    "* Term deposite subscription rate is not much dependent on housing loan, and housing loan status is not known for 2% of the data"
   ]
  },
  {
   "cell_type": "markdown",
   "id": "digital-validity",
   "metadata": {},
   "source": [
    "##### 3.1.8 Univariate Analysis: Loan"
   ]
  },
  {
   "cell_type": "code",
   "execution_count": 26,
   "id": "interim-cabinet",
   "metadata": {
    "scrolled": true
   },
   "outputs": [
    {
     "name": "stdout",
     "output_type": "stream",
     "text": [
      "y           no   yes  conv_percent\n",
      "loan                              \n",
      "no       30100  3850      0.113402\n",
      "yes       5565   683      0.109315\n",
      "unknown    883   107      0.108081\n"
     ]
    }
   ],
   "source": [
    "bar_chart(data, 'loan', 'y', 'no')"
   ]
  },
  {
   "cell_type": "markdown",
   "id": "alert-enforcement",
   "metadata": {},
   "source": [
    "* Term deposite subscription rate is not much dependent on personal loan status, and housing loan status is not known for 2% of the data"
   ]
  },
  {
   "cell_type": "markdown",
   "id": "geological-belle",
   "metadata": {},
   "source": [
    "##### 3.1.9 Univariate Analysis: concat"
   ]
  },
  {
   "cell_type": "code",
   "execution_count": 28,
   "id": "usual-philippines",
   "metadata": {
    "scrolled": true
   },
   "outputs": [
    {
     "name": "stdout",
     "output_type": "stream",
     "text": [
      "y             no   yes  conv_percent\n",
      "contact                             \n",
      "cellular   22291  3853      0.147376\n",
      "telephone  14257   787      0.052313\n"
     ]
    }
   ],
   "source": [
    "bar_chart(data, 'contact', 'y', 'no')"
   ]
  },
  {
   "cell_type": "markdown",
   "id": "caring-destiny",
   "metadata": {},
   "source": [
    "* Conversion rate is higher at 14% for contact type 'Celular'"
   ]
  },
  {
   "cell_type": "markdown",
   "id": "flying-things",
   "metadata": {},
   "source": [
    "##### 3.1.10 Univariate Analysis: Month"
   ]
  },
  {
   "cell_type": "code",
   "execution_count": 29,
   "id": "direct-retention",
   "metadata": {},
   "outputs": [
    {
     "data": {
      "image/png": "[encoded data removed]",
      "text/plain": [
       "<Figure size 576x576 with 1 Axes>"
      ]
     },
     "metadata": {
      "needs_background": "light"
     },
     "output_type": "display_data"
    },
    {
     "name": "stdout",
     "output_type": "stream",
     "text": [
      "y         no  yes  conv_percent\n",
      "month                          \n",
      "may    12883  886      0.064347\n",
      "jul     6525  649      0.090466\n",
      "aug     5523  655      0.106021\n",
      "jun     4759  559      0.105115\n",
      "nov     3685  416      0.101439\n",
      "apr     2093  539      0.204787\n",
      "oct      403  315      0.438719\n",
      "sep      314  256      0.449123\n",
      "mar      270  276      0.505495\n",
      "dec       93   89      0.489011\n"
     ]
    }
   ],
   "source": [
    "bar_chart(data, 'month', 'y')"
   ]
  },
  {
   "cell_type": "markdown",
   "id": "pressing-omega",
   "metadata": {},
   "source": [
    "* Number of leads are high in May, July, August, June, November and April.\n",
    "* But the conversion rate much higher in March, December, September and October months though the number of leads are small."
   ]
  },
  {
   "cell_type": "markdown",
   "id": "brief-attachment",
   "metadata": {},
   "source": [
    "##### 3.1.11 Univariate Analysis: day_of_week"
   ]
  },
  {
   "cell_type": "code",
   "execution_count": 32,
   "id": "impossible-nursery",
   "metadata": {
    "scrolled": true
   },
   "outputs": [
    {
     "name": "stdout",
     "output_type": "stream",
     "text": [
      "y              no   yes  conv_percent\n",
      "day_of_week                          \n",
      "thu          7578  1045      0.121188\n",
      "mon          7667   847      0.099483\n",
      "wed          7185   949      0.116671\n",
      "tue          7137   953      0.117800\n",
      "fri          6981   846      0.108087\n"
     ]
    }
   ],
   "source": [
    "bar_chart(data, 'day_of_week', 'y', 'no')"
   ]
  },
  {
   "cell_type": "markdown",
   "id": "athletic-digit",
   "metadata": {},
   "source": [
    "* Day of week alone does not have significant impact on conversion rate"
   ]
  },
  {
   "cell_type": "markdown",
   "id": "catholic-russian",
   "metadata": {},
   "source": [
    "##### 3.1.12 Univariate Analysis: Campaign"
   ]
  },
  {
   "cell_type": "code",
   "execution_count": 38,
   "id": "practical-first",
   "metadata": {
    "scrolled": false
   },
   "outputs": [
    {
     "data": {
      "image/png": "[encoded data removed]",
      "text/plain": [
       "<Figure size 576x576 with 1 Axes>"
      ]
     },
     "metadata": {
      "needs_background": "light"
     },
     "output_type": "display_data"
    },
    {
     "name": "stdout",
     "output_type": "stream",
     "text": [
      "y            no   yes  conv_percent\n",
      "campaign                           \n",
      "1         15342  2300      0.130371\n",
      "2          9359  1211      0.114570\n",
      "3          4767   574      0.107471\n",
      "4          2402   249      0.093927\n",
      "5          1479   120      0.075047\n",
      "6           904    75      0.076609\n",
      "7           591    38      0.060413\n",
      "8           383    17      0.042500\n",
      "9           266    17      0.060071\n",
      "10          213    12      0.053333\n",
      "11          165    12      0.067797\n",
      "12          122     3      0.024000\n",
      "13           88     4      0.043478\n",
      "14           68     1      0.014493\n",
      "17           54     4      0.068966\n"
     ]
    }
   ],
   "source": [
    "bar_chart(data, 'campaign', 'y', 'yes', 15)"
   ]
  },
  {
   "cell_type": "markdown",
   "id": "continent-turtle",
   "metadata": {},
   "source": [
    "* Initial campaigns have good number of leads and also rate of conversion. "
   ]
  },
  {
   "cell_type": "code",
   "execution_count": 77,
   "id": "impressive-lease",
   "metadata": {
    "scrolled": true
   },
   "outputs": [
    {
     "data": {
      "image/png": "[encoded data removed]",
      "text/plain": [
       "<Figure size 432x288 with 1 Axes>"
      ]
     },
     "metadata": {},
     "output_type": "display_data"
    }
   ],
   "source": [
    "# box plot for campaign\n",
    "sns.set_style(\"whitegrid\")\n",
    "sns.boxplot(x='y', y='campaign', data=data)\n",
    "plt.xlabel('Lead Conversion')\n",
    "plt.ylabel('Campaign')\n",
    "plt.title('Box plot for Campaign (Number of contacts performed during the campaign)')\n",
    "plt.show()"
   ]
  },
  {
   "cell_type": "markdown",
   "id": "efficient-hydrogen",
   "metadata": {},
   "source": [
    "* It seems campaign is also having some outliers, let us check with percentiles"
   ]
  },
  {
   "cell_type": "code",
   "execution_count": 31,
   "id": "treated-trick",
   "metadata": {},
   "outputs": [
    {
     "name": "stdout",
     "output_type": "stream",
     "text": [
      "99.0 percentile value for campaign:  14.0\n",
      "99.9 percentile value for campaign:  29.0\n",
      "Number of data points above the 99.0 percentile range:  (406, 21)\n"
     ]
    }
   ],
   "source": [
    "# remove outliers from dataset - found extreme values in call duration in 42 rows\n",
    "per = np.percentile(data.campaign, 99.0)\n",
    "print(\"99.0 percentile value for campaign: \", np.percentile(data.campaign, 99.0))\n",
    "print(\"99.9 percentile value for campaign: \", np.percentile(data.campaign, 99.9))\n",
    "print(\"Number of data points above the 99.0 percentile range: \", data[data.campaign > per].shape)"
   ]
  },
  {
   "cell_type": "markdown",
   "id": "least-oxide",
   "metadata": {},
   "source": [
    "* Since the value of 99.9 percentile is doubled from 99.9 percentile value, we can take 99 percentile value as cutoff and remove the 406 rows."
   ]
  },
  {
   "cell_type": "markdown",
   "id": "terminal-factory",
   "metadata": {},
   "source": [
    "##### 3.1.13 Univariate Analysis: Pdays"
   ]
  },
  {
   "cell_type": "code",
   "execution_count": 43,
   "id": "animated-infrastructure",
   "metadata": {
    "scrolled": false
   },
   "outputs": [
    {
     "name": "stdout",
     "output_type": "stream",
     "text": [
      "y         no   yes  conv_percent\n",
      "pdays                           \n",
      "999    36000  3673      0.092582\n",
      "3        141   298      0.678815\n",
      "6        123   289      0.701456\n",
      "4         55    63      0.533898\n",
      "9         29    35      0.546875\n",
      "2         24    37      0.606557\n",
      "7         20    40      0.666667\n",
      "12        32    26      0.448276\n",
      "10        22    30      0.576923\n",
      "5         17    29      0.630435\n"
     ]
    }
   ],
   "source": [
    "bar_chart(data, 'pdays', 'y', 'no', 10)"
   ]
  },
  {
   "cell_type": "markdown",
   "id": "forced-seeker",
   "metadata": {},
   "source": [
    "* pdays=999 : Client was not contacted previously. 96% of leads are totally new leads.\n",
    "* Conversion rate is high for clients who were contacted in the previous campaigns but the number of leads are very small in that category "
   ]
  },
  {
   "cell_type": "markdown",
   "id": "mobile-series",
   "metadata": {},
   "source": [
    "##### 3.1.13 Univariate Analysis: Previous"
   ]
  },
  {
   "cell_type": "code",
   "execution_count": 40,
   "id": "proud-effectiveness",
   "metadata": {
    "scrolled": false
   },
   "outputs": [
    {
     "data": {
      "image/png": "[encoded data removed]",
      "text/plain": [
       "<Figure size 576x576 with 1 Axes>"
      ]
     },
     "metadata": {
      "needs_background": "light"
     },
     "output_type": "display_data"
    },
    {
     "name": "stdout",
     "output_type": "stream",
     "text": [
      "y            no   yes  conv_percent\n",
      "previous                           \n",
      "0         32422  3141      0.088322\n",
      "1          3594   967      0.212015\n",
      "2           404   350      0.464191\n",
      "3            88   128      0.592593\n",
      "4            32    38      0.542857\n",
      "5             5    13      0.722222\n",
      "6             2     3      0.600000\n",
      "7             1     0      0.000000\n"
     ]
    }
   ],
   "source": [
    "bar_chart(data, 'previous', 'y', 'yes', 10)"
   ]
  },
  {
   "cell_type": "markdown",
   "id": "personal-lindsay",
   "metadata": {},
   "source": [
    "* 86% of the people were not contacted in previous campaigns\n",
    "* Conversion rate is increasing with the number of contacts increasing in previous campaigns"
   ]
  },
  {
   "cell_type": "markdown",
   "id": "abandoned-timeline",
   "metadata": {},
   "source": [
    "##### 3.1.13 Univariate Analysis: Poutcome"
   ]
  },
  {
   "cell_type": "code",
   "execution_count": 41,
   "id": "vulnerable-witch",
   "metadata": {
    "scrolled": false
   },
   "outputs": [
    {
     "data": {
      "image/png": "[encoded data removed]",
      "text/plain": [
       "<Figure size 576x576 with 1 Axes>"
      ]
     },
     "metadata": {
      "needs_background": "light"
     },
     "output_type": "display_data"
    },
    {
     "name": "stdout",
     "output_type": "stream",
     "text": [
      "y               no   yes  conv_percent\n",
      "poutcome                              \n",
      "nonexistent  32422  3141      0.088322\n",
      "failure       3647   605      0.142286\n",
      "success        479   894      0.651129\n"
     ]
    }
   ],
   "source": [
    "bar_chart(data, 'poutcome', 'y', 'yes', 10)"
   ]
  },
  {
   "cell_type": "markdown",
   "id": "technical-adult",
   "metadata": {},
   "source": [
    "* 86% of the people were not contacted in previous campaigns"
   ]
  },
  {
   "cell_type": "markdown",
   "id": "induced-nirvana",
   "metadata": {},
   "source": [
    "#### 3.2 Bivariate Analysis"
   ]
  },
  {
   "cell_type": "markdown",
   "id": "funny-hanging",
   "metadata": {},
   "source": [
    "##### 3.2.1 Correlation Matrix for numerical features"
   ]
  },
  {
   "cell_type": "code",
   "execution_count": 5,
   "id": "according-aberdeen",
   "metadata": {
    "scrolled": false
   },
   "outputs": [
    {
     "data": {
      "text/html": [
       "<div>\n",
       "<style scoped>\n",
       "    .dataframe tbody tr th:only-of-type {\n",
       "        vertical-align: middle;\n",
       "    }\n",
       "\n",
       "    .dataframe tbody tr th {\n",
       "        vertical-align: top;\n",
       "    }\n",
       "\n",
       "    .dataframe thead th {\n",
       "        text-align: right;\n",
       "    }\n",
       "</style>\n",
       "<table border=\"1\" class=\"dataframe\">\n",
       "  <thead>\n",
       "    <tr style=\"text-align: right;\">\n",
       "      <th></th>\n",
       "      <th>age</th>\n",
       "      <th>job</th>\n",
       "      <th>marital</th>\n",
       "      <th>education</th>\n",
       "      <th>default</th>\n",
       "      <th>housing</th>\n",
       "      <th>loan</th>\n",
       "      <th>contact</th>\n",
       "      <th>month</th>\n",
       "      <th>day_of_week</th>\n",
       "      <th>...</th>\n",
       "      <th>campaign</th>\n",
       "      <th>pdays</th>\n",
       "      <th>previous</th>\n",
       "      <th>poutcome</th>\n",
       "      <th>emp.var.rate</th>\n",
       "      <th>cons.price.idx</th>\n",
       "      <th>cons.conf.idx</th>\n",
       "      <th>euribor3m</th>\n",
       "      <th>nr.employed</th>\n",
       "      <th>y</th>\n",
       "    </tr>\n",
       "  </thead>\n",
       "  <tbody>\n",
       "    <tr>\n",
       "      <th>0</th>\n",
       "      <td>56</td>\n",
       "      <td>housemaid</td>\n",
       "      <td>married</td>\n",
       "      <td>basic.4y</td>\n",
       "      <td>no</td>\n",
       "      <td>no</td>\n",
       "      <td>no</td>\n",
       "      <td>telephone</td>\n",
       "      <td>may</td>\n",
       "      <td>mon</td>\n",
       "      <td>...</td>\n",
       "      <td>1</td>\n",
       "      <td>999</td>\n",
       "      <td>0</td>\n",
       "      <td>nonexistent</td>\n",
       "      <td>1.1</td>\n",
       "      <td>93.994</td>\n",
       "      <td>-36.4</td>\n",
       "      <td>4.857</td>\n",
       "      <td>5191.0</td>\n",
       "      <td>0</td>\n",
       "    </tr>\n",
       "    <tr>\n",
       "      <th>1</th>\n",
       "      <td>57</td>\n",
       "      <td>services</td>\n",
       "      <td>married</td>\n",
       "      <td>high.school</td>\n",
       "      <td>unknown</td>\n",
       "      <td>no</td>\n",
       "      <td>no</td>\n",
       "      <td>telephone</td>\n",
       "      <td>may</td>\n",
       "      <td>mon</td>\n",
       "      <td>...</td>\n",
       "      <td>1</td>\n",
       "      <td>999</td>\n",
       "      <td>0</td>\n",
       "      <td>nonexistent</td>\n",
       "      <td>1.1</td>\n",
       "      <td>93.994</td>\n",
       "      <td>-36.4</td>\n",
       "      <td>4.857</td>\n",
       "      <td>5191.0</td>\n",
       "      <td>0</td>\n",
       "    </tr>\n",
       "    <tr>\n",
       "      <th>2</th>\n",
       "      <td>37</td>\n",
       "      <td>services</td>\n",
       "      <td>married</td>\n",
       "      <td>high.school</td>\n",
       "      <td>no</td>\n",
       "      <td>yes</td>\n",
       "      <td>no</td>\n",
       "      <td>telephone</td>\n",
       "      <td>may</td>\n",
       "      <td>mon</td>\n",
       "      <td>...</td>\n",
       "      <td>1</td>\n",
       "      <td>999</td>\n",
       "      <td>0</td>\n",
       "      <td>nonexistent</td>\n",
       "      <td>1.1</td>\n",
       "      <td>93.994</td>\n",
       "      <td>-36.4</td>\n",
       "      <td>4.857</td>\n",
       "      <td>5191.0</td>\n",
       "      <td>0</td>\n",
       "    </tr>\n",
       "    <tr>\n",
       "      <th>3</th>\n",
       "      <td>40</td>\n",
       "      <td>admin.</td>\n",
       "      <td>married</td>\n",
       "      <td>basic.6y</td>\n",
       "      <td>no</td>\n",
       "      <td>no</td>\n",
       "      <td>no</td>\n",
       "      <td>telephone</td>\n",
       "      <td>may</td>\n",
       "      <td>mon</td>\n",
       "      <td>...</td>\n",
       "      <td>1</td>\n",
       "      <td>999</td>\n",
       "      <td>0</td>\n",
       "      <td>nonexistent</td>\n",
       "      <td>1.1</td>\n",
       "      <td>93.994</td>\n",
       "      <td>-36.4</td>\n",
       "      <td>4.857</td>\n",
       "      <td>5191.0</td>\n",
       "      <td>0</td>\n",
       "    </tr>\n",
       "    <tr>\n",
       "      <th>4</th>\n",
       "      <td>56</td>\n",
       "      <td>services</td>\n",
       "      <td>married</td>\n",
       "      <td>high.school</td>\n",
       "      <td>no</td>\n",
       "      <td>no</td>\n",
       "      <td>yes</td>\n",
       "      <td>telephone</td>\n",
       "      <td>may</td>\n",
       "      <td>mon</td>\n",
       "      <td>...</td>\n",
       "      <td>1</td>\n",
       "      <td>999</td>\n",
       "      <td>0</td>\n",
       "      <td>nonexistent</td>\n",
       "      <td>1.1</td>\n",
       "      <td>93.994</td>\n",
       "      <td>-36.4</td>\n",
       "      <td>4.857</td>\n",
       "      <td>5191.0</td>\n",
       "      <td>0</td>\n",
       "    </tr>\n",
       "  </tbody>\n",
       "</table>\n",
       "<p>5 rows × 21 columns</p>\n",
       "</div>"
      ],
      "text/plain": [
       "   age        job  marital    education  default housing loan    contact  \\\n",
       "0   56  housemaid  married     basic.4y       no      no   no  telephone   \n",
       "1   57   services  married  high.school  unknown      no   no  telephone   \n",
       "2   37   services  married  high.school       no     yes   no  telephone   \n",
       "3   40     admin.  married     basic.6y       no      no   no  telephone   \n",
       "4   56   services  married  high.school       no      no  yes  telephone   \n",
       "\n",
       "  month day_of_week  ...  campaign  pdays  previous     poutcome emp.var.rate  \\\n",
       "0   may         mon  ...         1    999         0  nonexistent          1.1   \n",
       "1   may         mon  ...         1    999         0  nonexistent          1.1   \n",
       "2   may         mon  ...         1    999         0  nonexistent          1.1   \n",
       "3   may         mon  ...         1    999         0  nonexistent          1.1   \n",
       "4   may         mon  ...         1    999         0  nonexistent          1.1   \n",
       "\n",
       "   cons.price.idx  cons.conf.idx  euribor3m  nr.employed  y  \n",
       "0          93.994          -36.4      4.857       5191.0  0  \n",
       "1          93.994          -36.4      4.857       5191.0  0  \n",
       "2          93.994          -36.4      4.857       5191.0  0  \n",
       "3          93.994          -36.4      4.857       5191.0  0  \n",
       "4          93.994          -36.4      4.857       5191.0  0  \n",
       "\n",
       "[5 rows x 21 columns]"
      ]
     },
     "execution_count": 5,
     "metadata": {},
     "output_type": "execute_result"
    }
   ],
   "source": [
    "\"\"\" For better computations we replace the label data in 'y' column, replace 'yes' to 1 and 'no' to 0 \"\"\"\n",
    "data.loc[data.y=='yes', 'y'] = 1\n",
    "data.loc[data.y=='no', 'y'] = 0\n",
    "data.y = data.y.astype(np.int64)\n",
    "data.head()"
   ]
  },
  {
   "cell_type": "code",
   "execution_count": null,
   "id": "satisfactory-junction",
   "metadata": {},
   "outputs": [],
   "source": [
    "corr_table = data.corr()\n",
    "corr_table['y'].sort_values(ascending=False)\n",
    "# print(corr_table['y'].sort_values(ascending=False))"
   ]
  },
  {
   "cell_type": "code",
   "execution_count": 77,
   "id": "magnetic-holly",
   "metadata": {
    "scrolled": true
   },
   "outputs": [
    {
     "data": {
      "image/png": "[encoded data removed]",
      "text/plain": [
       "<Figure size 864x864 with 2 Axes>"
      ]
     },
     "metadata": {
      "needs_background": "light"
     },
     "output_type": "display_data"
    }
   ],
   "source": [
    "plt.figure(figsize=(12,12))\n",
    "sns.heatmap(corr_table, annot=True, cmap='Greens')\n",
    "plt.title('Correlation matrix for all numerical features including target variable')\n",
    "plt.xlabel('Numerical features in the data')\n",
    "plt.ylabel('Numerical features in the data')\n",
    "plt.show()"
   ]
  },
  {
   "cell_type": "markdown",
   "id": "instructional-ceremony",
   "metadata": {},
   "source": [
    "* From the above correlation table for numerical features, following are the observations...\n",
    "    * \"emp.var.rate\" and \"euribor3m\" are highly correlated\n",
    "    * \"euribor3m\" and \"nr.employed\" are highly correlated\n",
    "    * So from the above 2 statements, euribor3m and nr.employed are highly correlated. We can ignore any of the 2 variables while training since there will not be significant difference in performance.\n",
    "    \n",
    "    * Varibales like duration, previous are positively correlated with target variable\n",
    "    * Variables nr.employed, pdays, euribor3m and emp.var.rate are negatively correlated with target variable"
   ]
  },
  {
   "cell_type": "markdown",
   "id": "established-emperor",
   "metadata": {},
   "source": [
    "##### 3.2.2 Correlation matrix for categorical features"
   ]
  },
  {
   "cell_type": "code",
   "execution_count": 32,
   "id": "cloudy-tanzania",
   "metadata": {},
   "outputs": [
    {
     "data": {
      "text/html": [
       "<div>\n",
       "<style scoped>\n",
       "    .dataframe tbody tr th:only-of-type {\n",
       "        vertical-align: middle;\n",
       "    }\n",
       "\n",
       "    .dataframe tbody tr th {\n",
       "        vertical-align: top;\n",
       "    }\n",
       "\n",
       "    .dataframe thead th {\n",
       "        text-align: right;\n",
       "    }\n",
       "</style>\n",
       "<table border=\"1\" class=\"dataframe\">\n",
       "  <thead>\n",
       "    <tr style=\"text-align: right;\">\n",
       "      <th>marital</th>\n",
       "      <th>divorced</th>\n",
       "      <th>married</th>\n",
       "      <th>single</th>\n",
       "      <th>unknown</th>\n",
       "    </tr>\n",
       "    <tr>\n",
       "      <th>job</th>\n",
       "      <th></th>\n",
       "      <th></th>\n",
       "      <th></th>\n",
       "      <th></th>\n",
       "    </tr>\n",
       "  </thead>\n",
       "  <tbody>\n",
       "    <tr>\n",
       "      <th>admin.</th>\n",
       "      <td>1280</td>\n",
       "      <td>5253</td>\n",
       "      <td>3875</td>\n",
       "      <td>14</td>\n",
       "    </tr>\n",
       "    <tr>\n",
       "      <th>blue-collar</th>\n",
       "      <td>728</td>\n",
       "      <td>6687</td>\n",
       "      <td>1825</td>\n",
       "      <td>14</td>\n",
       "    </tr>\n",
       "    <tr>\n",
       "      <th>entrepreneur</th>\n",
       "      <td>179</td>\n",
       "      <td>1071</td>\n",
       "      <td>203</td>\n",
       "      <td>3</td>\n",
       "    </tr>\n",
       "    <tr>\n",
       "      <th>housemaid</th>\n",
       "      <td>161</td>\n",
       "      <td>777</td>\n",
       "      <td>119</td>\n",
       "      <td>3</td>\n",
       "    </tr>\n",
       "    <tr>\n",
       "      <th>management</th>\n",
       "      <td>331</td>\n",
       "      <td>2089</td>\n",
       "      <td>501</td>\n",
       "      <td>3</td>\n",
       "    </tr>\n",
       "    <tr>\n",
       "      <th>retired</th>\n",
       "      <td>348</td>\n",
       "      <td>1274</td>\n",
       "      <td>93</td>\n",
       "      <td>5</td>\n",
       "    </tr>\n",
       "    <tr>\n",
       "      <th>self-employed</th>\n",
       "      <td>133</td>\n",
       "      <td>904</td>\n",
       "      <td>379</td>\n",
       "      <td>5</td>\n",
       "    </tr>\n",
       "    <tr>\n",
       "      <th>services</th>\n",
       "      <td>532</td>\n",
       "      <td>2294</td>\n",
       "      <td>1137</td>\n",
       "      <td>6</td>\n",
       "    </tr>\n",
       "    <tr>\n",
       "      <th>student</th>\n",
       "      <td>9</td>\n",
       "      <td>41</td>\n",
       "      <td>824</td>\n",
       "      <td>1</td>\n",
       "    </tr>\n",
       "    <tr>\n",
       "      <th>technician</th>\n",
       "      <td>774</td>\n",
       "      <td>3670</td>\n",
       "      <td>2287</td>\n",
       "      <td>12</td>\n",
       "    </tr>\n",
       "    <tr>\n",
       "      <th>unemployed</th>\n",
       "      <td>124</td>\n",
       "      <td>634</td>\n",
       "      <td>251</td>\n",
       "      <td>5</td>\n",
       "    </tr>\n",
       "    <tr>\n",
       "      <th>unknown</th>\n",
       "      <td>13</td>\n",
       "      <td>234</td>\n",
       "      <td>74</td>\n",
       "      <td>9</td>\n",
       "    </tr>\n",
       "  </tbody>\n",
       "</table>\n",
       "</div>"
      ],
      "text/plain": [
       "marital        divorced  married  single  unknown\n",
       "job                                              \n",
       "admin.             1280     5253    3875       14\n",
       "blue-collar         728     6687    1825       14\n",
       "entrepreneur        179     1071     203        3\n",
       "housemaid           161      777     119        3\n",
       "management          331     2089     501        3\n",
       "retired             348     1274      93        5\n",
       "self-employed       133      904     379        5\n",
       "services            532     2294    1137        6\n",
       "student               9       41     824        1\n",
       "technician          774     3670    2287       12\n",
       "unemployed          124      634     251        5\n",
       "unknown              13      234      74        9"
      ]
     },
     "execution_count": 32,
     "metadata": {},
     "output_type": "execute_result"
    }
   ],
   "source": [
    "pd.crosstab(data['job'], data['marital'])"
   ]
  },
  {
   "cell_type": "code",
   "execution_count": 39,
   "id": "patient-divide",
   "metadata": {},
   "outputs": [
    {
     "data": {
      "text/plain": [
       "(12, 4)"
      ]
     },
     "execution_count": 39,
     "metadata": {},
     "output_type": "execute_result"
    }
   ],
   "source": [
    "pd.crosstab(data['job'], data['marital']).shape"
   ]
  },
  {
   "cell_type": "code",
   "execution_count": 35,
   "id": "shared-globe",
   "metadata": {},
   "outputs": [],
   "source": [
    "# concept: https://en.wikipedia.org/wiki/Cram%C3%A9r%27s_V\n",
    "# code reference: https://stackoverflow.com/questions/46498455/categorical-features-correlation/46498792#46498792\n",
    "import scipy.stats as ss\n",
    "\n",
    "def cramers_v(f1, f2):\n",
    "    conf_matrix = pd.crosstab(data[f1], data[f2])\n",
    "    n = conf_matrix.values.sum()\n",
    "    # chi2_cintigency returns 4 values... 0 -> chi2 value, 1 -> p-value, 2 -> degree of freedom and 3 -> expected values\n",
    "    chi2 = ss.chi2_contingency(conf_matrix.values)[0]\n",
    "    # print(chi2)\n",
    "    phi2 = chi2/n\n",
    "    # print(phi2)\n",
    "    r,k = conf_matrix.shape\n",
    "    # print(r,k)\n",
    "    phi2corr = max(0, phi2 - ((r-1)*(k-1))/(n-1))\n",
    "    # print(phi2corr)\n",
    "    r_corr = r - ((r-1)**2)/(n-1)\n",
    "    k_corr = k - ((k-1)**2)/(n-1)\n",
    "\n",
    "    # formula for crams-v\n",
    "    crams_v = np.sqrt(phi2corr / min((r_corr-1), (k_corr-1)))\n",
    "    # print(crams_v)\n",
    "    return crams_v"
   ]
  },
  {
   "cell_type": "code",
   "execution_count": 36,
   "id": "residential-stationery",
   "metadata": {},
   "outputs": [],
   "source": [
    "# list all categorical varibales and include targe variable also\n",
    "cat_variables = ['job', 'marital', 'education', 'default', 'housing', 'loan', 'contact', 'month', 'day_of_week', 'poutcome', 'y']\n",
    "\n",
    "corr_cat = np.zeros((len(cat_variables), len(cat_variables)))\n",
    "for idx1, var1 in enumerate(cat_variables):\n",
    "    for idx2, var2 in enumerate(cat_variables):\n",
    "        corr_cat[idx1, idx2] = cramers_v(var1, var2)\n",
    "\n",
    "# creating data frame with correlation matrix\n",
    "corr_cat = pd.DataFrame(corr_cat, index=cat_variables, columns=cat_variables)"
   ]
  },
  {
   "cell_type": "code",
   "execution_count": 37,
   "id": "lasting-category",
   "metadata": {
    "scrolled": true
   },
   "outputs": [
    {
     "data": {
      "image/png": "[encoded data removed]",
      "text/plain": [
       "<Figure size 864x864 with 2 Axes>"
      ]
     },
     "metadata": {
      "needs_background": "light"
     },
     "output_type": "display_data"
    }
   ],
   "source": [
    "# print(corr_cat)\n",
    "plt.figure(figsize=(12,12))\n",
    "sns.heatmap(corr_cat, annot=True, cmap='Reds')\n",
    "plt.title('Crams V correlation matrix for categorical features including traget variable')\n",
    "plt.xlabel('Categorical features')\n",
    "plt.ylabel('Categorical features')\n",
    "plt.show()"
   ]
  },
  {
   "cell_type": "markdown",
   "id": "sustainable-certification",
   "metadata": {},
   "source": [
    "* Interpretations from the above correlation matrix for categorical variables...\n",
    "    * Housing and Loan are moderately associated with each other\n",
    "    * Contact and Month are moderately associated with each other\n",
    "    * poutcome (outcome of the previous marketing campaign), month (last contact month), job and contact (contact communication type) are highly associated with the target variable."
   ]
  },
  {
   "cell_type": "markdown",
   "id": "dirty-newfoundland",
   "metadata": {},
   "source": [
    "### 4. Data Cleaning"
   ]
  },
  {
   "cell_type": "code",
   "execution_count": 6,
   "id": "attractive-emerald",
   "metadata": {},
   "outputs": [
    {
     "name": "stdout",
     "output_type": "stream",
     "text": [
      "Number of data points above the 99.9 percentile range:  (42, 21)\n",
      "Dataset shape after removing the outliers from call duration:  (41146, 21)\n"
     ]
    }
   ],
   "source": [
    "# remove outliers from dataset - found extreme values in call duration in 42 rows\n",
    "per = np.percentile(data.duration, 99.9)\n",
    "print(\"Number of data points above the 99.9 percentile range: \", data[data.duration > per].shape)\n",
    "data = data[data.duration <= per] # remove the rows with call duration values greater than 99.9 percentile value\n",
    "print(\"Dataset shape after removing the outliers from call duration: \", data.shape)"
   ]
  },
  {
   "cell_type": "code",
   "execution_count": 7,
   "id": "bound-proposition",
   "metadata": {
    "scrolled": true
   },
   "outputs": [
    {
     "name": "stdout",
     "output_type": "stream",
     "text": [
      "Number of data points above the 99.0 percentile range:  (406, 21)\n",
      "Dataset shape after removing the outliers from campaign:  (40740, 21)\n"
     ]
    }
   ],
   "source": [
    "# remove outliers from dataset - found extreme values in campaign in 406 rows\n",
    "per = np.percentile(data.campaign, 99.0)\n",
    "print(\"Number of data points above the 99.0 percentile range: \", data[data.campaign > per].shape)\n",
    "data = data[data.campaign <= per] # remove the rows with call duration values greater than 99.9 percentile value\n",
    "print(\"Dataset shape after removing the outliers from campaign: \", data.shape)"
   ]
  },
  {
   "cell_type": "code",
   "execution_count": 8,
   "id": "royal-belarus",
   "metadata": {},
   "outputs": [
    {
     "data": {
      "text/plain": [
       "0.9891230455472467"
      ]
     },
     "execution_count": 8,
     "metadata": {},
     "output_type": "execute_result"
    }
   ],
   "source": [
    "data.shape[0]/num_rows"
   ]
  },
  {
   "cell_type": "markdown",
   "id": "remarkable-burlington",
   "metadata": {},
   "source": [
    "* 98.9% of original dataset is retained for modeling\n",
    "* Since emp.var.rate, euribor3m and nr.eployed are having high correlation coefficents, here we are ignoring emp.var.rate and euribor3m and keeping only nr.employed. It is having high negative correlation with target vriable compare to other 2 variables.\n",
    "* In categorical variables, job and education are highly associated with each other and education has very less impact on target variable. Ignoring education variable also."
   ]
  },
  {
   "cell_type": "code",
   "execution_count": 9,
   "id": "affected-member",
   "metadata": {
    "scrolled": true
   },
   "outputs": [
    {
     "data": {
      "text/plain": [
       "Index(['age', 'job', 'marital', 'education', 'default', 'housing', 'loan',\n",
       "       'contact', 'month', 'day_of_week', 'duration', 'campaign', 'pdays',\n",
       "       'previous', 'poutcome', 'cons.price.idx', 'cons.conf.idx',\n",
       "       'nr.employed', 'y'],\n",
       "      dtype='object')"
      ]
     },
     "execution_count": 9,
     "metadata": {},
     "output_type": "execute_result"
    }
   ],
   "source": [
    "data.drop(['emp.var.rate','euribor3m'], axis=1, inplace=True)\n",
    "data.columns"
   ]
  },
  {
   "cell_type": "code",
   "execution_count": 10,
   "id": "imposed-proceeding",
   "metadata": {},
   "outputs": [
    {
     "name": "stdout",
     "output_type": "stream",
     "text": [
      "['job', 'marital', 'education', 'default', 'housing', 'loan', 'contact', 'month', 'day_of_week', 'poutcome'] \n",
      " ['age', 'duration', 'campaign', 'pdays', 'previous', 'cons.price.idx', 'cons.conf.idx', 'nr.employed']\n"
     ]
    }
   ],
   "source": [
    "num_features.remove('emp.var.rate')\n",
    "num_features.remove('euribor3m')\n",
    "print(cat_features, '\\n',num_features)"
   ]
  },
  {
   "cell_type": "code",
   "execution_count": 11,
   "id": "suffering-index",
   "metadata": {},
   "outputs": [],
   "source": [
    "# convert all values to lower case for all categorical variables\n",
    "for feature in cat_features:\n",
    "    data[feature] = data[feature].str.lower()\n",
    "    # When converting categorical features using one hot encoding / multiple columns are being named with same feature name\n",
    "    # which is not allowed in ensembles like xgboost, catboost and lgbm\n",
    "    data.loc[data[feature]=='unknown', feature] = feature+'_unknown'\n",
    "    data.loc[data[feature]=='no', feature] = feature+'_no'\n",
    "    data.loc[data[feature]=='yes', feature] = feature+'_yes'    "
   ]
  },
  {
   "cell_type": "markdown",
   "id": "confirmed-apollo",
   "metadata": {},
   "source": [
    "### 5. Data Preprocessing"
   ]
  },
  {
   "cell_type": "markdown",
   "id": "aggregate-convention",
   "metadata": {},
   "source": [
    "#### 5.1 Train - Test split"
   ]
  },
  {
   "cell_type": "code",
   "execution_count": 12,
   "id": "velvet-plasma",
   "metadata": {},
   "outputs": [],
   "source": [
    "data.to_csv('data.csv')"
   ]
  },
  {
   "cell_type": "code",
   "execution_count": null,
   "id": "trained-customs",
   "metadata": {},
   "outputs": [],
   "source": [
    "data = pd.read_csv('data.csv')"
   ]
  },
  {
   "cell_type": "code",
   "execution_count": 128,
   "id": "becoming-resource",
   "metadata": {},
   "outputs": [
    {
     "name": "stdout",
     "output_type": "stream",
     "text": [
      "Train data shape:  (32592, 18) (32592,)\n",
      "Test data shape:  (8148, 18) (8148,)\n"
     ]
    }
   ],
   "source": [
    "X_train, X_test, y_train, y_test = train_test_split(data.drop('y', axis=1), data.y.values, stratify=data.y, test_size=0.2, random_state=10)\n",
    "\n",
    "print(\"Train data shape: \", X_train.shape, y_train.shape)\n",
    "print(\"Test data shape: \",X_test.shape, y_test.shape)"
   ]
  },
  {
   "cell_type": "markdown",
   "id": "classical-clark",
   "metadata": {},
   "source": [
    "#### 5.2 Data transformation"
   ]
  },
  {
   "cell_type": "markdown",
   "id": "vanilla-smooth",
   "metadata": {},
   "source": [
    "##### 5.2.1 Numerical features scaling"
   ]
  },
  {
   "cell_type": "code",
   "execution_count": 129,
   "id": "choice-czech",
   "metadata": {
    "scrolled": true
   },
   "outputs": [],
   "source": [
    "scaler = StandardScaler()\n",
    "scaler = scaler.fit(data[num_features])"
   ]
  },
  {
   "cell_type": "code",
   "execution_count": 130,
   "id": "physical-indicator",
   "metadata": {
    "scrolled": true
   },
   "outputs": [
    {
     "data": {
      "text/plain": [
       "Index(['age', 'duration', 'campaign', 'pdays', 'previous', 'cons.price.idx',\n",
       "       'cons.conf.idx', 'nr.employed'],\n",
       "      dtype='object')"
      ]
     },
     "execution_count": 130,
     "metadata": {},
     "output_type": "execute_result"
    }
   ],
   "source": [
    "# creating new empty dataframes to store processed data for training\n",
    "X_train_processed = X_train.drop(cat_features, axis=1)\n",
    "X_test_processed = X_test.drop(cat_features, axis=1)\n",
    "X_train_processed.columns"
   ]
  },
  {
   "cell_type": "code",
   "execution_count": 131,
   "id": "composite-capitol",
   "metadata": {},
   "outputs": [],
   "source": [
    "X_train_processed.reset_index(drop=True, inplace=True)\n",
    "X_test_processed.reset_index(drop=True, inplace=True)"
   ]
  },
  {
   "cell_type": "code",
   "execution_count": 132,
   "id": "restricted-superior",
   "metadata": {
    "scrolled": true
   },
   "outputs": [],
   "source": [
    "# transform all numerical features and save it new dataframes\n",
    "X_train_processed[num_features] = scaler.transform(X_train[num_features])\n",
    "X_test_processed[num_features] = scaler.transform(X_test[num_features])"
   ]
  },
  {
   "cell_type": "markdown",
   "id": "apparent-sheriff",
   "metadata": {},
   "source": [
    "##### 5.2.2 Categorical feature tranformation"
   ]
  },
  {
   "cell_type": "markdown",
   "id": "mounted-complement",
   "metadata": {},
   "source": [
    "* We will tranform categorical features using onehot encoder"
   ]
  },
  {
   "cell_type": "code",
   "execution_count": 133,
   "id": "premier-legislature",
   "metadata": {},
   "outputs": [],
   "source": [
    "onehotencoder = OneHotEncoder(handle_unknown='ignore')\n",
    "cat_features_ohe = onehotencoder.fit(X_train[cat_features])"
   ]
  },
  {
   "cell_type": "code",
   "execution_count": 134,
   "id": "overall-aerospace",
   "metadata": {},
   "outputs": [],
   "source": [
    "X_train_ohe = cat_features_ohe.transform(X_train[cat_features])\n",
    "X_test_ohe = cat_features_ohe.transform(X_test[cat_features])"
   ]
  },
  {
   "cell_type": "code",
   "execution_count": 135,
   "id": "duplicate-target",
   "metadata": {
    "scrolled": true
   },
   "outputs": [
    {
     "data": {
      "text/plain": [
       "(32592, 52)"
      ]
     },
     "execution_count": 135,
     "metadata": {},
     "output_type": "execute_result"
    }
   ],
   "source": [
    "X_train_ohe.toarray().shape"
   ]
  },
  {
   "cell_type": "code",
   "execution_count": 136,
   "id": "identical-astrology",
   "metadata": {},
   "outputs": [],
   "source": [
    "cat_feature_labels_ohe = np.concatenate(cat_features_ohe.categories_).ravel().tolist()"
   ]
  },
  {
   "cell_type": "code",
   "execution_count": 137,
   "id": "thrown-webster",
   "metadata": {},
   "outputs": [],
   "source": [
    "X_train_ohe = pd.DataFrame(X_train_ohe.toarray(), columns=cat_feature_labels_ohe)\n",
    "X_test_ohe = pd.DataFrame(X_test_ohe.toarray(), columns=cat_feature_labels_ohe)"
   ]
  },
  {
   "cell_type": "code",
   "execution_count": 138,
   "id": "strategic-ranking",
   "metadata": {
    "scrolled": false
   },
   "outputs": [
    {
     "name": "stdout",
     "output_type": "stream",
     "text": [
      "shape of categorical features of train and test sets after converting categorical features with one hot encoding:\n"
     ]
    },
    {
     "data": {
      "text/plain": [
       "((32592, 52), (8148, 52))"
      ]
     },
     "execution_count": 138,
     "metadata": {},
     "output_type": "execute_result"
    }
   ],
   "source": [
    "print(\"shape of categorical features of train and test sets after converting categorical features with one hot encoding:\")\n",
    "X_train_ohe.shape, X_test_ohe.shape"
   ]
  },
  {
   "cell_type": "markdown",
   "id": "under-miracle",
   "metadata": {},
   "source": [
    "##### 5.2.3 Merging transformed numerical features and categorical features"
   ]
  },
  {
   "cell_type": "code",
   "execution_count": 139,
   "id": "balanced-thought",
   "metadata": {
    "scrolled": true
   },
   "outputs": [
    {
     "name": "stdout",
     "output_type": "stream",
     "text": [
      "Final processed train data and test data shapes: \n",
      "(32592, 60) (8148, 60)\n"
     ]
    }
   ],
   "source": [
    "X_train_final = pd.concat([X_train_ohe, X_train_processed], axis=1)\n",
    "X_test_final = pd.concat([X_test_ohe, X_test_processed], axis=1)\n",
    "\n",
    "print(\"Final processed train data and test data shapes: \")\n",
    "print(X_train_final.shape, X_test_final.shape)"
   ]
  },
  {
   "cell_type": "code",
   "execution_count": 29,
   "id": "equipped-tower",
   "metadata": {},
   "outputs": [],
   "source": [
    "# X_train_final.to_csv('X_train_final.csv') #, index=False\n",
    "# X_test_final.to_csv('X_test_final.csv') #, index=False"
   ]
  },
  {
   "cell_type": "markdown",
   "id": "missing-virgin",
   "metadata": {},
   "source": [
    "### 6. Modeling"
   ]
  },
  {
   "cell_type": "code",
   "execution_count": 140,
   "id": "varying-century",
   "metadata": {},
   "outputs": [],
   "source": [
    "from sklearn.linear_model import LogisticRegression\n",
    "from sklearn.tree import DecisionTreeClassifier\n",
    "from sklearn.metrics import roc_curve, auc, roc_auc_score, f1_score, precision_recall_fscore_support\n",
    "from sklearn.model_selection import GridSearchCV, RandomizedSearchCV\n",
    "from scipy.stats import uniform\n",
    "from sklearn.metrics import confusion_matrix"
   ]
  },
  {
   "cell_type": "markdown",
   "id": "destroyed-partnership",
   "metadata": {},
   "source": [
    "#### 6.1 Logistic Regression"
   ]
  },
  {
   "cell_type": "code",
   "execution_count": 141,
   "id": "economic-cyprus",
   "metadata": {},
   "outputs": [],
   "source": [
    "lr = LogisticRegression(random_state=10, max_iter=1000) #, max_iter=500\n",
    "\n",
    "model = lr.fit(X_train_final, y_train)"
   ]
  },
  {
   "cell_type": "markdown",
   "id": "stuck-robertson",
   "metadata": {},
   "source": [
    "#### 6.2 Performance Analysis - Confusion matrix, Accuracy, AUC, F1 Score, LIFT"
   ]
  },
  {
   "cell_type": "code",
   "execution_count": 142,
   "id": "cubic-collector",
   "metadata": {
    "scrolled": true
   },
   "outputs": [
    {
     "data": {
      "image/png": "[encoded data removed]",
      "text/plain": [
       "<Figure size 432x288 with 2 Axes>"
      ]
     },
     "metadata": {
      "needs_background": "light"
     },
     "output_type": "display_data"
    }
   ],
   "source": [
    "\n",
    "# print confusion matrix\n",
    "y_train_pred = model.predict(X_train_final)\n",
    "y_test_pred = model.predict(X_test_final)\n",
    "confusion_matrix_test = confusion_matrix(y_test, y_test_pred)\n",
    "\n",
    "# code reference - https://medium.com/@dtuk81/confusion-matrix-visualization-fc31e3f30fea\n",
    "group_names = ['True Neg', 'False Pos', 'False Neg', 'True Pos']\n",
    "group_counts = [\"{0:0.0f}\".format(value) for value in\n",
    "                confusion_matrix_test.flatten()]\n",
    "group_percentages = [\"{0:.2%}\".format(value) for value in\n",
    "                     confusion_matrix_test.flatten()/np.sum(confusion_matrix_test)]\n",
    "\n",
    "labels = [f\"{v1}\\n{v2}\\n{v3}\" for v1, v2, v3 in\n",
    "          zip(group_names,group_counts,group_percentages)]\n",
    "labels = np.asarray(labels).reshape(2,2)\n",
    "sns.heatmap(confusion_matrix_test, annot=labels, fmt='', cmap='Blues')\n",
    "plt.title(\"Confusion Matrix for Test Data\")\n",
    "plt.xlabel('Predicted')\n",
    "plt.ylabel('Actual')\n",
    "plt.show()"
   ]
  },
  {
   "cell_type": "code",
   "execution_count": 143,
   "id": "gothic-lebanon",
   "metadata": {
    "scrolled": false
   },
   "outputs": [
    {
     "name": "stdout",
     "output_type": "stream",
     "text": [
      "Model Accuracy:  0.9128620520373097\n"
     ]
    }
   ],
   "source": [
    "tn, fp, fn, tp = confusion_matrix_test.flatten()\n",
    "print(\"Model Accuracy: \", ((tp + tn)/ (tn + fp + fn + tp)))"
   ]
  },
  {
   "cell_type": "code",
   "execution_count": 144,
   "id": "annoying-marina",
   "metadata": {
    "scrolled": false
   },
   "outputs": [
    {
     "data": {
      "image/png": "[encoded data removed]",
      "text/plain": [
       "<Figure size 432x288 with 1 Axes>"
      ]
     },
     "metadata": {
      "needs_background": "light"
     },
     "output_type": "display_data"
    }
   ],
   "source": [
    "# AUC\n",
    "y_train_pred_prob = model.predict_proba(X_train_final) # taking only predictions for positive class\n",
    "y_test_pred_prob = model.predict_proba(X_test_final) # taking only predictions for positive class\n",
    "\n",
    "train_fpr, train_tpr, train_thresholds = roc_curve(y_train, y_train_pred_prob[:, 1])\n",
    "test_fpr, test_tpr, test_thresholds = roc_curve(y_test, y_test_pred_prob[:, 1])\n",
    "\n",
    "plt.plot(train_fpr, train_tpr, label='Train AUC:'+str(auc(train_fpr, train_tpr)))\n",
    "plt.plot(test_fpr, test_tpr, label='Test AUC:'+str(auc(test_fpr, test_tpr)))\n",
    "plt.xlabel('False Positive Rate')\n",
    "plt.ylabel('True Positive Rate')\n",
    "plt.title('ROC AUC curve for train and test sets')\n",
    "plt.legend()\n",
    "plt.show()\n"
   ]
  },
  {
   "cell_type": "code",
   "execution_count": 145,
   "id": "quarterly-semiconductor",
   "metadata": {},
   "outputs": [
    {
     "name": "stdout",
     "output_type": "stream",
     "text": [
      "Precision Score for class-0: 0.9314088983050848 and class-1:  0.6778523489932886\n",
      "----------------------------------------------------------------------------------------------------\n",
      "Recall Score for class-0: 0.9734292831442015 and class-1: 0.43817787418655096\n",
      "----------------------------------------------------------------------------------------------------\n",
      "F1 Score for class-0: 0.9519556096900799 and class-1: 0.5322793148880106\n"
     ]
    }
   ],
   "source": [
    "precision, recall, f1_beta, support = precision_recall_fscore_support(y_test, y_test_pred) #, average='micro'\n",
    "print('Precision Score for class-0:', precision[0], 'and class-1: ', precision[1])\n",
    "print('-'*100)\n",
    "print('Recall Score for class-0:', recall[0], 'and class-1:', recall[1])\n",
    "print('-'*100)\n",
    "print('F1 Score for class-0:', f1_beta[0], 'and class-1:', f1_beta[1])\n",
    "# print('Support: ', support)"
   ]
  },
  {
   "cell_type": "code",
   "execution_count": 107,
   "id": "persistent-simple",
   "metadata": {
    "scrolled": true
   },
   "outputs": [
    {
     "data": {
      "image/png": "[encoded data removed]",
      "text/plain": [
       "<Figure size 432x288 with 1 Axes>"
      ]
     },
     "metadata": {
      "needs_background": "light"
     },
     "output_type": "display_data"
    }
   ],
   "source": [
    "from scikitplot.metrics import plot_cumulative_gain, plot_lift_curve\n",
    "plot_cumulative_gain(y_test, y_test_pred_prob)\n",
    "plt.vlines(x=0.3, ymax=1, ymin=0, colors='g', linestyles='--')\n",
    "plt.hlines(y=0.94, xmax=0.6, xmin=0, colors='g', linestyles='--')\n",
    "plt.show()\n",
    "# plot_lift_curve(y_test, y_test_pred_prob)"
   ]
  },
  {
   "cell_type": "markdown",
   "id": "blessed-enough",
   "metadata": {},
   "source": [
    "* From the above cumulative gain curve...\n",
    "    * Orange curve represents the cumulative gain for positive class.\n",
    "    * A green horizontal and vertical dashed lines are plotted to denote the point where gain curve begins to platue\n",
    "    * This intersection point tells us, with only 30% of the leads we can acheive 94% of the conversion rate."
   ]
  },
  {
   "cell_type": "markdown",
   "id": "funded-nashville",
   "metadata": {},
   "source": [
    "##### The below snippet is taken to cross check whether the above cumulative gain plot is giving the same result as this gain curve"
   ]
  },
  {
   "cell_type": "code",
   "execution_count": 108,
   "id": "civil-mercury",
   "metadata": {},
   "outputs": [],
   "source": [
    "decile_df = pd.DataFrame(list(zip(np.hstack((y_train,y_test)), np.hstack((y_train_pred_prob[:, 1],y_test_pred_prob[:, 1])))), columns=['y_true','y_pred'])"
   ]
  },
  {
   "cell_type": "code",
   "execution_count": 109,
   "id": "stuffed-governor",
   "metadata": {},
   "outputs": [],
   "source": [
    "# this piece of code taken from \n",
    "# https://medium.com/the-innovation/lead-conversion-score-prediction-using-python-a65d5bb7ccff\n",
    "# to learn and understand the concept of lift curve analysis\n",
    "\n",
    "\n",
    "decile_df['decile'] = pd.qcut(decile_df.y_pred, 10, labels=np.arange(10,0,-1))\n",
    "\n",
    "lift_df = decile_df.groupby('decile')['y_pred'].count().reset_index()\n",
    "\n",
    "lift_df.rename({'y_pred':'total'}, axis=1, inplace=True)\n",
    "\n",
    "lift_df_pred = decile_df[decile_df.y_true==1].groupby('decile')['y_true'].count().reset_index()\n",
    "\n",
    "lift_df_final = lift_df.merge(lift_df_pred, on='decile')\n",
    "\n",
    "lift_df_final = lift_df_final.sort_values(['decile'], ascending=False)\n",
    "\n",
    "lift_df_final['cumresp'] = lift_df_final.y_true.cumsum()\n",
    "\n",
    "lift_df_final['gain'] = (lift_df_final['cumresp']/sum(lift_df_final['y_true'])) * 100\n",
    "\n",
    "lift_df_final['cumlift'] = lift_df_final['gain']/(lift_df_final['decile'].astype('int') * (100/10))"
   ]
  },
  {
   "cell_type": "code",
   "execution_count": 130,
   "id": "optional-canon",
   "metadata": {},
   "outputs": [
    {
     "data": {
      "text/html": [
       "<div>\n",
       "<style scoped>\n",
       "    .dataframe tbody tr th:only-of-type {\n",
       "        vertical-align: middle;\n",
       "    }\n",
       "\n",
       "    .dataframe tbody tr th {\n",
       "        vertical-align: top;\n",
       "    }\n",
       "\n",
       "    .dataframe thead th {\n",
       "        text-align: right;\n",
       "    }\n",
       "</style>\n",
       "<table border=\"1\" class=\"dataframe\">\n",
       "  <thead>\n",
       "    <tr style=\"text-align: right;\">\n",
       "      <th></th>\n",
       "      <th>decile</th>\n",
       "      <th>total</th>\n",
       "      <th>y_true</th>\n",
       "      <th>cumresp</th>\n",
       "      <th>gain</th>\n",
       "      <th>cumlift</th>\n",
       "    </tr>\n",
       "  </thead>\n",
       "  <tbody>\n",
       "    <tr>\n",
       "      <th>9</th>\n",
       "      <td>1</td>\n",
       "      <td>4074</td>\n",
       "      <td>2527</td>\n",
       "      <td>2527</td>\n",
       "      <td>54.827511</td>\n",
       "      <td>5.482751</td>\n",
       "    </tr>\n",
       "    <tr>\n",
       "      <th>8</th>\n",
       "      <td>2</td>\n",
       "      <td>4074</td>\n",
       "      <td>1298</td>\n",
       "      <td>3825</td>\n",
       "      <td>82.989803</td>\n",
       "      <td>4.149490</td>\n",
       "    </tr>\n",
       "    <tr>\n",
       "      <th>7</th>\n",
       "      <td>3</td>\n",
       "      <td>4074</td>\n",
       "      <td>542</td>\n",
       "      <td>4367</td>\n",
       "      <td>94.749403</td>\n",
       "      <td>3.158313</td>\n",
       "    </tr>\n",
       "    <tr>\n",
       "      <th>6</th>\n",
       "      <td>4</td>\n",
       "      <td>4074</td>\n",
       "      <td>151</td>\n",
       "      <td>4518</td>\n",
       "      <td>98.025602</td>\n",
       "      <td>2.450640</td>\n",
       "    </tr>\n",
       "    <tr>\n",
       "      <th>5</th>\n",
       "      <td>5</td>\n",
       "      <td>4074</td>\n",
       "      <td>38</td>\n",
       "      <td>4556</td>\n",
       "      <td>98.850076</td>\n",
       "      <td>1.977002</td>\n",
       "    </tr>\n",
       "    <tr>\n",
       "      <th>4</th>\n",
       "      <td>6</td>\n",
       "      <td>4074</td>\n",
       "      <td>31</td>\n",
       "      <td>4587</td>\n",
       "      <td>99.522673</td>\n",
       "      <td>1.658711</td>\n",
       "    </tr>\n",
       "    <tr>\n",
       "      <th>3</th>\n",
       "      <td>7</td>\n",
       "      <td>4074</td>\n",
       "      <td>13</td>\n",
       "      <td>4600</td>\n",
       "      <td>99.804730</td>\n",
       "      <td>1.425782</td>\n",
       "    </tr>\n",
       "    <tr>\n",
       "      <th>2</th>\n",
       "      <td>8</td>\n",
       "      <td>4074</td>\n",
       "      <td>4</td>\n",
       "      <td>4604</td>\n",
       "      <td>99.891517</td>\n",
       "      <td>1.248644</td>\n",
       "    </tr>\n",
       "    <tr>\n",
       "      <th>1</th>\n",
       "      <td>9</td>\n",
       "      <td>4074</td>\n",
       "      <td>4</td>\n",
       "      <td>4608</td>\n",
       "      <td>99.978303</td>\n",
       "      <td>1.110870</td>\n",
       "    </tr>\n",
       "    <tr>\n",
       "      <th>0</th>\n",
       "      <td>10</td>\n",
       "      <td>4074</td>\n",
       "      <td>1</td>\n",
       "      <td>4609</td>\n",
       "      <td>100.000000</td>\n",
       "      <td>1.000000</td>\n",
       "    </tr>\n",
       "  </tbody>\n",
       "</table>\n",
       "</div>"
      ],
      "text/plain": [
       "  decile  total  y_true  cumresp        gain   cumlift\n",
       "9      1   4074    2527     2527   54.827511  5.482751\n",
       "8      2   4074    1298     3825   82.989803  4.149490\n",
       "7      3   4074     542     4367   94.749403  3.158313\n",
       "6      4   4074     151     4518   98.025602  2.450640\n",
       "5      5   4074      38     4556   98.850076  1.977002\n",
       "4      6   4074      31     4587   99.522673  1.658711\n",
       "3      7   4074      13     4600   99.804730  1.425782\n",
       "2      8   4074       4     4604   99.891517  1.248644\n",
       "1      9   4074       4     4608   99.978303  1.110870\n",
       "0     10   4074       1     4609  100.000000  1.000000"
      ]
     },
     "execution_count": 130,
     "metadata": {},
     "output_type": "execute_result"
    }
   ],
   "source": [
    "lift_df_final"
   ]
  },
  {
   "cell_type": "code",
   "execution_count": 135,
   "id": "vocational-monster",
   "metadata": {
    "scrolled": false
   },
   "outputs": [
    {
     "data": {
      "image/png": "[encoded data removed]",
      "text/plain": [
       "<Figure size 432x288 with 1 Axes>"
      ]
     },
     "metadata": {
      "needs_background": "light"
     },
     "output_type": "display_data"
    }
   ],
   "source": [
    "lift_df_final.plot.line(x='decile', y='gain')\n",
    "plt.grid()\n",
    "plt.show()"
   ]
  },
  {
   "cell_type": "markdown",
   "id": "continued-lloyd",
   "metadata": {},
   "source": [
    "* The above curve also showing the same gain rate as the cumulative curve which was drwan using scikit-plot"
   ]
  }
 ],
 "metadata": {
  "kernelspec": {
   "display_name": "Python 3",
   "language": "python",
   "name": "python3"
  },
  "language_info": {
   "codemirror_mode": {
    "name": "ipython",
    "version": 3
   },
   "file_extension": ".py",
   "mimetype": "text/x-python",
   "name": "python",
   "nbconvert_exporter": "python",
   "pygments_lexer": "ipython3",
   "version": "3.7.10"
  }
 },
 "nbformat": 4,
 "nbformat_minor": 5
}
