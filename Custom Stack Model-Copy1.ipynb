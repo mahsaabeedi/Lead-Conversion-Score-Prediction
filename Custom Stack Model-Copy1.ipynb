{
 "cells": [
  {
   "cell_type": "code",
   "execution_count": 1,
   "id": "behavioral-event",
   "metadata": {},
   "outputs": [],
   "source": [
    "# importing required libraries\n",
    "import pandas as pd\n",
    "import numpy as np\n",
    "import matplotlib.pyplot as plt\n",
    "import seaborn as sns\n",
    "from tqdm import tqdm\n",
    "\n",
    "from sklearn.model_selection import train_test_split\n",
    "from sklearn.preprocessing import StandardScaler, OneHotEncoder, OrdinalEncoder"
   ]
  },
  {
   "cell_type": "markdown",
   "id": "confirmed-apollo",
   "metadata": {},
   "source": [
    "## Data Preprocessing"
   ]
  },
  {
   "cell_type": "code",
   "execution_count": 2,
   "id": "planned-florist",
   "metadata": {},
   "outputs": [],
   "source": [
    "cat_features = ['job', 'marital', 'education', 'default', 'housing', 'loan', 'contact', 'month', 'day_of_week', 'poutcome']\n",
    "num_features = ['age', 'duration', 'campaign', 'pdays', 'previous', 'cons.price.idx', 'cons.conf.idx', 'nr.employed']"
   ]
  },
  {
   "cell_type": "markdown",
   "id": "herbal-recycling",
   "metadata": {},
   "source": [
    "#### Train - Test split"
   ]
  },
  {
   "cell_type": "code",
   "execution_count": 3,
   "id": "velvet-plasma",
   "metadata": {},
   "outputs": [],
   "source": [
    "# data.to_csv('data.csv')"
   ]
  },
  {
   "cell_type": "code",
   "execution_count": 4,
   "id": "trained-customs",
   "metadata": {},
   "outputs": [],
   "source": [
    "data = pd.read_csv('data.csv')"
   ]
  },
  {
   "cell_type": "code",
   "execution_count": 5,
   "id": "becoming-resource",
   "metadata": {},
   "outputs": [
    {
     "name": "stdout",
     "output_type": "stream",
     "text": [
      "Train data shape:  (32592, 19) (32592,)\n",
      "Test data shape:  (8148, 19) (8148,)\n"
     ]
    }
   ],
   "source": [
    "X_train, X_test, y_train, y_test = train_test_split(data.drop('y', axis=1), data.y.values, stratify=data.y, test_size=0.2, random_state=10)\n",
    "\n",
    "print(\"Train data shape: \", X_train.shape, y_train.shape)\n",
    "print(\"Test data shape: \",X_test.shape, y_test.shape)"
   ]
  },
  {
   "cell_type": "code",
   "execution_count": 6,
   "id": "sitting-median",
   "metadata": {},
   "outputs": [
    {
     "name": "stdout",
     "output_type": "stream",
     "text": [
      "D1 data set shape:  (16296, 19) (16296,)\n",
      "D2 data set shape:  (16296, 19) (16296,)\n"
     ]
    }
   ],
   "source": [
    "# split the train data set into D1 and D2\n",
    "X_d1, X_d2, y_d1, y_d2 = train_test_split(X_train, y_train, stratify=y_train, test_size=0.5, random_state=10)\n",
    "\n",
    "print(\"D1 data set shape: \", X_d1.shape, y_d1.shape)\n",
    "print(\"D2 data set shape: \",X_d2.shape, y_d2.shape)"
   ]
  },
  {
   "cell_type": "code",
   "execution_count": 7,
   "id": "economic-illustration",
   "metadata": {
    "scrolled": true
   },
   "outputs": [
    {
     "name": "stdout",
     "output_type": "stream",
     "text": [
      "Number of negative and positive data points in D1 (X_d1):  (array([0, 1]), array([14453,  1843]))\n",
      "Number of negative and positive data points in D2 (X_d2):  (array([0, 1]), array([14452,  1844]))\n"
     ]
    }
   ],
   "source": [
    "print(\"Number of negative and positive data points in D1 (X_d1): \", np.unique(y_d1, return_counts=True))\n",
    "print(\"Number of negative and positive data points in D2 (X_d2): \", np.unique(y_d2, return_counts=True))"
   ]
  },
  {
   "cell_type": "markdown",
   "id": "classical-clark",
   "metadata": {},
   "source": [
    "#### Data transformation"
   ]
  },
  {
   "cell_type": "markdown",
   "id": "vanilla-smooth",
   "metadata": {},
   "source": [
    "##### Numerical features scaling"
   ]
  },
  {
   "cell_type": "code",
   "execution_count": 9,
   "id": "choice-czech",
   "metadata": {
    "scrolled": true
   },
   "outputs": [],
   "source": [
    "scaler = StandardScaler()\n",
    "scaler = scaler.fit(X_d1[num_features])"
   ]
  },
  {
   "cell_type": "code",
   "execution_count": 68,
   "id": "dac0fcb5",
   "metadata": {},
   "outputs": [
    {
     "data": {
      "text/plain": [
       "['num_features_scaler.pkl']"
      ]
     },
     "execution_count": 68,
     "metadata": {},
     "output_type": "execute_result"
    }
   ],
   "source": [
    "joblib.dump(scaler, 'num_features_scaler.pkl')"
   ]
  },
  {
   "cell_type": "code",
   "execution_count": 10,
   "id": "physical-indicator",
   "metadata": {
    "scrolled": true
   },
   "outputs": [
    {
     "data": {
      "text/plain": [
       "Index(['Unnamed: 0', 'age', 'duration', 'campaign', 'pdays', 'previous',\n",
       "       'cons.price.idx', 'cons.conf.idx', 'nr.employed'],\n",
       "      dtype='object')"
      ]
     },
     "execution_count": 10,
     "metadata": {},
     "output_type": "execute_result"
    }
   ],
   "source": [
    "# creating new empty dataframes to store processed data for training\n",
    "X_d1_processed = X_d1.drop(cat_features, axis=1)\n",
    "X_d2_processed = X_d2.drop(cat_features, axis=1)\n",
    "X_test_processed = X_test.drop(cat_features, axis=1)\n",
    "X_d1_processed.columns"
   ]
  },
  {
   "cell_type": "code",
   "execution_count": 11,
   "id": "composite-capitol",
   "metadata": {},
   "outputs": [],
   "source": [
    "X_d1_processed.reset_index(drop=True, inplace=True)\n",
    "X_d2_processed.reset_index(drop=True, inplace=True)\n",
    "X_test_processed.reset_index(drop=True, inplace=True)"
   ]
  },
  {
   "cell_type": "code",
   "execution_count": 12,
   "id": "restricted-superior",
   "metadata": {
    "scrolled": true
   },
   "outputs": [],
   "source": [
    "# transform all numerical features and save it new dataframes\n",
    "X_d1_processed[num_features] = scaler.transform(X_d1[num_features])\n",
    "X_d2_processed[num_features] = scaler.transform(X_d2[num_features])\n",
    "X_test_processed[num_features] = scaler.transform(X_test[num_features])"
   ]
  },
  {
   "cell_type": "markdown",
   "id": "apparent-sheriff",
   "metadata": {},
   "source": [
    "##### Categorical feature tranformation"
   ]
  },
  {
   "cell_type": "markdown",
   "id": "mounted-complement",
   "metadata": {},
   "source": [
    "* We will tranform categorical features using onehot encoder"
   ]
  },
  {
   "cell_type": "code",
   "execution_count": 13,
   "id": "premier-legislature",
   "metadata": {},
   "outputs": [],
   "source": [
    "onehotencoder = OneHotEncoder(handle_unknown='ignore')\n",
    "cat_features_ohe = onehotencoder.fit(X_d1[cat_features])"
   ]
  },
  {
   "cell_type": "code",
   "execution_count": 67,
   "id": "4a225c11",
   "metadata": {},
   "outputs": [
    {
     "data": {
      "text/plain": [
       "['cat_features_ohe.pkl']"
      ]
     },
     "execution_count": 67,
     "metadata": {},
     "output_type": "execute_result"
    }
   ],
   "source": [
    "joblib.dump(cat_features_ohe, 'cat_features_ohe.pkl')"
   ]
  },
  {
   "cell_type": "code",
   "execution_count": 14,
   "id": "overall-aerospace",
   "metadata": {},
   "outputs": [],
   "source": [
    "X_d1_ohe = cat_features_ohe.transform(X_d1[cat_features])\n",
    "X_d2_ohe = cat_features_ohe.transform(X_d2[cat_features])\n",
    "X_test_ohe = cat_features_ohe.transform(X_test[cat_features])"
   ]
  },
  {
   "cell_type": "code",
   "execution_count": 15,
   "id": "duplicate-target",
   "metadata": {
    "scrolled": true
   },
   "outputs": [
    {
     "data": {
      "text/plain": [
       "(16296, 52)"
      ]
     },
     "execution_count": 15,
     "metadata": {},
     "output_type": "execute_result"
    }
   ],
   "source": [
    "X_d1_ohe.toarray().shape"
   ]
  },
  {
   "cell_type": "code",
   "execution_count": 16,
   "id": "identical-astrology",
   "metadata": {},
   "outputs": [],
   "source": [
    "cat_feature_labels_ohe = np.concatenate(cat_features_ohe.categories_).ravel().tolist()"
   ]
  },
  {
   "cell_type": "code",
   "execution_count": 17,
   "id": "thrown-webster",
   "metadata": {},
   "outputs": [],
   "source": [
    "X_d1_ohe = pd.DataFrame(X_d1_ohe.toarray(), columns=cat_feature_labels_ohe)\n",
    "X_d2_ohe = pd.DataFrame(X_d2_ohe.toarray(), columns=cat_feature_labels_ohe)\n",
    "X_test_ohe = pd.DataFrame(X_test_ohe.toarray(), columns=cat_feature_labels_ohe)"
   ]
  },
  {
   "cell_type": "code",
   "execution_count": 18,
   "id": "strategic-ranking",
   "metadata": {
    "scrolled": false
   },
   "outputs": [
    {
     "name": "stdout",
     "output_type": "stream",
     "text": [
      "shape of categorical features of D1, D2 and test sets after converting categorical features with one hot encoding:\n"
     ]
    },
    {
     "data": {
      "text/plain": [
       "((16296, 52), (16296, 52), (8148, 52))"
      ]
     },
     "execution_count": 18,
     "metadata": {},
     "output_type": "execute_result"
    }
   ],
   "source": [
    "print(\"shape of categorical features of D1, D2 and test sets after converting categorical features with one hot encoding:\")\n",
    "X_d1_ohe.shape, X_d2_ohe.shape, X_test_ohe.shape"
   ]
  },
  {
   "cell_type": "markdown",
   "id": "under-miracle",
   "metadata": {},
   "source": [
    "##### Merging transformed numerical features and categorical features"
   ]
  },
  {
   "cell_type": "code",
   "execution_count": 19,
   "id": "balanced-thought",
   "metadata": {
    "scrolled": true
   },
   "outputs": [
    {
     "name": "stdout",
     "output_type": "stream",
     "text": [
      "Final processed D1, D2 data and test data shapes: \n",
      "(16296, 60) (16296, 60) (8148, 60)\n"
     ]
    }
   ],
   "source": [
    "X_d1_final = pd.concat([X_d1_ohe, X_d1_processed], axis=1)\n",
    "X_d2_final = pd.concat([X_d2_ohe, X_d2_processed], axis=1)\n",
    "X_test_final = pd.concat([X_test_ohe, X_test_processed], axis=1)\n",
    "\n",
    "X_d1_final.drop('Unnamed: 0', axis=1, inplace=True)\n",
    "X_d2_final.drop('Unnamed: 0', axis=1, inplace=True)\n",
    "X_test_final.drop('Unnamed: 0', axis=1, inplace=True)\n",
    "\n",
    "print(\"Final processed D1, D2 data and test data shapes: \")\n",
    "print(X_d1_final.shape, X_d2_final.shape, X_test_final.shape)"
   ]
  },
  {
   "cell_type": "markdown",
   "id": "missing-virgin",
   "metadata": {},
   "source": [
    "## Modeling"
   ]
  },
  {
   "cell_type": "code",
   "execution_count": 63,
   "id": "varying-century",
   "metadata": {},
   "outputs": [],
   "source": [
    "from sklearn.linear_model import LogisticRegression, SGDClassifier\n",
    "from sklearn.tree import DecisionTreeClassifier\n",
    "from sklearn.naive_bayes import GaussianNB\n",
    "from sklearn.svm import SVC\n",
    "from sklearn.ensemble import RandomForestClassifier\n",
    "from xgboost.sklearn import XGBClassifier\n",
    "from catboost import CatBoostClassifier\n",
    "from lightgbm import LGBMClassifier\n",
    "from sklearn.metrics import roc_curve, auc, roc_auc_score, f1_score, precision_recall_fscore_support\n",
    "from sklearn.model_selection import GridSearchCV, RandomizedSearchCV\n",
    "from scipy.stats import uniform\n",
    "from sklearn.metrics import confusion_matrix\n",
    "from scikitplot.metrics import plot_cumulative_gain\n",
    "import joblib"
   ]
  },
  {
   "cell_type": "code",
   "execution_count": 21,
   "id": "cubic-collector",
   "metadata": {
    "scrolled": true
   },
   "outputs": [],
   "source": [
    "def print_confusion_matrix_accuracy(model, X_test, y_true):\n",
    "    # print confusion matrix\n",
    "    y_pred = model.predict(X_test)\n",
    "    confusion_matrix_test = confusion_matrix(y_true, y_pred)\n",
    "\n",
    "    tn, fp, fn, tp = confusion_matrix_test.flatten()\n",
    "    accuracy = (tp + tn)/ (tn + fp + fn + tp)\n",
    "    print(\"Model Accuracy: \", accuracy)\n",
    "    \n",
    "    # code reference - https://medium.com/@dtuk81/confusion-matrix-visualization-fc31e3f30fea\n",
    "    group_names = ['True Neg', 'False Pos', 'False Neg', 'True Pos']\n",
    "    group_counts = [\"{0:0.0f}\".format(value) for value in\n",
    "                    confusion_matrix_test.flatten()]\n",
    "    group_percentages = [\"{0:.2%}\".format(value) for value in\n",
    "                         confusion_matrix_test.flatten()/np.sum(confusion_matrix_test)]\n",
    "\n",
    "    labels = [f\"{v1}\\n{v2}\\n{v3}\" for v1, v2, v3 in\n",
    "              zip(group_names,group_counts,group_percentages)]\n",
    "    labels = np.asarray(labels).reshape(2,2)\n",
    "    sns.heatmap(confusion_matrix_test, annot=labels, fmt='', cmap='Greens')\n",
    "    plt.title(\"Confusion Matrix for Test Data\")\n",
    "    plt.xlabel('Predicted')\n",
    "    plt.ylabel('Actual')\n",
    "    plt.show()\n",
    "        \n",
    "    return y_pred, accuracy, tn, fp, fn, tp\n"
   ]
  },
  {
   "cell_type": "code",
   "execution_count": 22,
   "id": "annoying-marina",
   "metadata": {
    "scrolled": false
   },
   "outputs": [],
   "source": [
    "def plot_auc(model, X_train, X_test, y_train, y_test):\n",
    "    # AUC\n",
    "    y_train_pred_prob = model.predict_proba(X_train) # taking only predictions for positive class\n",
    "    y_test_pred_prob = model.predict_proba(X_test) # taking only predictions for positive class\n",
    "\n",
    "    train_fpr, train_tpr, train_thresholds = roc_curve(y_train, y_train_pred_prob[:, 1])\n",
    "    test_fpr, test_tpr, test_thresholds = roc_curve(y_test, y_test_pred_prob[:, 1])\n",
    "\n",
    "    plt.plot(train_fpr, train_tpr, label='Train AUC:'+str(auc(train_fpr, train_tpr)))\n",
    "    plt.plot(test_fpr, test_tpr, label='Test AUC:'+str(auc(test_fpr, test_tpr)))\n",
    "    plt.xlabel('False Positive Rate')\n",
    "    plt.ylabel('True Positive Rate')\n",
    "    plt.title('ROC AUC curve for train and test sets')\n",
    "    plt.legend()\n",
    "    plt.grid()\n",
    "    plt.show()\n",
    "\n",
    "    return y_train_pred_prob, y_test_pred_prob, auc(train_fpr, train_tpr), auc(test_fpr, test_tpr)"
   ]
  },
  {
   "cell_type": "code",
   "execution_count": 23,
   "id": "quarterly-semiconductor",
   "metadata": {},
   "outputs": [],
   "source": [
    "def precision_recall_f1(y_test, y_pred):\n",
    "    precision, recall, f1_beta, support = precision_recall_fscore_support(y_test, y_pred) #, average='micro'\n",
    "    print('Precision Score for class-0:', precision[0], 'and class-1: ', precision[1])\n",
    "    print('-'*100)\n",
    "    print('Recall Score for class-0:', recall[0], 'and class-1:', recall[1])\n",
    "    print('-'*100)\n",
    "    print('F1 Score for class-0:', f1_beta[0], 'and class-1:', f1_beta[1])\n",
    "    # print('Support: ', support)\n",
    "    return precision, recall, f1_beta"
   ]
  },
  {
   "cell_type": "code",
   "execution_count": 24,
   "id": "persistent-simple",
   "metadata": {
    "scrolled": true
   },
   "outputs": [],
   "source": [
    "def plot_gain_curve(y_true, y_pred_prob, x, y):\n",
    "    plot_cumulative_gain(y_true, y_pred_prob)\n",
    "    plt.vlines(x=x, ymax=1, ymin=0, colors='g', linestyles='--')\n",
    "    plt.hlines(y=y, xmax=0.9, xmin=0, colors='g', linestyles='--')\n",
    "    # plt.grid()\n",
    "    plt.show()\n",
    "    \n",
    "    # plot_lift_curve(y_test, y_test_pred_prob)"
   ]
  },
  {
   "cell_type": "code",
   "execution_count": 25,
   "id": "pharmaceutical-mistress",
   "metadata": {},
   "outputs": [],
   "source": [
    "def get_lift_index(y_true, y_pred_prob):\n",
    "    decile_df = pd.DataFrame(list(zip(y_true, y_pred_prob[:, 1])), columns=['y_true','y_pred'])\n",
    "    decile_df['decile'] = pd.qcut(decile_df.y_pred, 10, duplicates='drop') #, duplicates='drop'  labels=np.arange(10,0,-1),\n",
    "    lift_df = decile_df.groupby('decile')['y_pred'].count().reset_index()\n",
    "    lift_df.rename({'y_pred':'total'}, axis=1, inplace=True)\n",
    "    lift_df_pred = decile_df[decile_df.y_true==1].groupby('decile')['y_true'].count().reset_index()\n",
    "    lift_df_final = lift_df.merge(lift_df_pred, on='decile')\n",
    "    lift_df_final = lift_df_final.sort_values(['decile'], ascending=False)\n",
    "\n",
    "    lift_df_final['decile'] = [(i+1) for i in range(len(lift_df_final.decile.unique()))]\n",
    "    \n",
    "    # calculate the weighted lift index value\n",
    "    w = 1 # initializing the weight to 1\n",
    "    lift_index = 0.0\n",
    "    for cnt in lift_df_final.y_true.values:\n",
    "        lift_index += cnt * w\n",
    "        w = w - 0.1\n",
    "    \n",
    "    lift_index = lift_index/lift_df_final.y_true.sum()\n",
    "    return lift_index"
   ]
  },
  {
   "cell_type": "markdown",
   "id": "2e80df57",
   "metadata": {},
   "source": [
    "### Genrating samples with replacement from D1 (X_d1)"
   ]
  },
  {
   "cell_type": "code",
   "execution_count": 26,
   "id": "5d4d9766",
   "metadata": {},
   "outputs": [],
   "source": [
    "def create_sample(inputs, labels):\n",
    "    \"\"\" Function takes input data and target data, select the random samples by sampling with replacement technique \n",
    "    from both the datasets and returns the samples \"\"\"\n",
    "    \n",
    "    # number of data points in input data set\n",
    "    rows = len(inputs)\n",
    "    # print(rows)\n",
    "    # select 70% of the rows for each sample\n",
    "    sample_size = round(rows * 70 / 100)\n",
    "    # get the indexes of the samples\n",
    "    sampled_rows = np.random.choice(rows, sample_size, replace=True)\n",
    "    # print(len(sampled_rows))\n",
    "    \n",
    "    # print(sampled_rows[:, None])\n",
    "    # make the sample for input data and label data with the sampled row indexes\n",
    "    input_sample = inputs.iloc[sampled_rows]\n",
    "    labels_sample = labels[sampled_rows]\n",
    "    \n",
    "    # print(input_sample.shape, labels_sample.shape)\n",
    "    return input_sample, labels_sample"
   ]
  },
  {
   "cell_type": "code",
   "execution_count": 27,
   "id": "055412aa",
   "metadata": {},
   "outputs": [],
   "source": [
    "def get_samples(X, y, n_samples):\n",
    "    \"\"\" Thi function takes the input data set and target dataset and number of sampes as input and generates the \n",
    "    samples and returns a list of generated samples \"\"\"\n",
    "    \n",
    "    # initiate the two lists to store the samples and their targets\n",
    "    list_input_data = []\n",
    "    list_target_data = []\n",
    "    \n",
    "    for i in range(n_samples):\n",
    "        # generate n_samples by calling create_sample function and save samples to lists\n",
    "        input_sample, labels_sample = create_sample(X, y)\n",
    "        list_input_data.append(input_sample)\n",
    "        list_target_data.append(labels_sample)\n",
    "    \n",
    "    # return the list of generated samples and targets \n",
    "    return list_input_data, list_target_data"
   ]
  },
  {
   "cell_type": "code",
   "execution_count": 185,
   "id": "be95e3f3",
   "metadata": {},
   "outputs": [],
   "source": [
    "meta_metrics = dict()\n",
    "meta_metrics['LGBM'] = dict()\n",
    "meta_metrics['CAT'] = dict()"
   ]
  },
  {
   "cell_type": "code",
   "execution_count": 28,
   "id": "b1f3fe8a",
   "metadata": {},
   "outputs": [],
   "source": [
    "# create k=50, 100, 150, 200 samples from D1\n",
    "k = 100\n",
    "list_input_data, list_target_data = get_samples(X_d1_final, y_d1, k)"
   ]
  },
  {
   "cell_type": "code",
   "execution_count": 29,
   "id": "484555cd",
   "metadata": {},
   "outputs": [
    {
     "data": {
      "text/plain": [
       "(100, 100)"
      ]
     },
     "execution_count": 29,
     "metadata": {},
     "output_type": "execute_result"
    }
   ],
   "source": [
    "len(list_input_data), len(list_target_data)"
   ]
  },
  {
   "cell_type": "markdown",
   "id": "520501b1",
   "metadata": {},
   "source": [
    "### Training base models on samples"
   ]
  },
  {
   "cell_type": "markdown",
   "id": "ded74c36",
   "metadata": {},
   "source": [
    "![alt text](summary_tbl.png)"
   ]
  },
  {
   "cell_type": "markdown",
   "id": "0557291d",
   "metadata": {},
   "source": [
    "* Based on the performance of the models with hyper parameter tuning, I have chosen the below models"
   ]
  },
  {
   "cell_type": "code",
   "execution_count": 30,
   "id": "e6950e81",
   "metadata": {},
   "outputs": [],
   "source": [
    "list_classifiers = [LogisticRegression(class_weight='balanced', random_state=10, max_iter=1000),\n",
    "                    SVC(probability=True, class_weight='balanced', random_state=10),\n",
    "                    DecisionTreeClassifier(class_weight='balanced', random_state=10),\n",
    "                    RandomForestClassifier(class_weight='balanced', random_state=10),\n",
    "                    CatBoostClassifier(class_weights=[0.13, 0.87], random_state=10, silent=True),\n",
    "                    LGBMClassifier(class_weight='balanced', random_state=10)]"
   ]
  },
  {
   "cell_type": "code",
   "execution_count": 49,
   "id": "0c6a241d",
   "metadata": {},
   "outputs": [
    {
     "name": "stderr",
     "output_type": "stream",
     "text": [
      "100%|██████████| 100/100 [09:08<00:00,  5.48s/it]\n"
     ]
    }
   ],
   "source": [
    "# pick any classification model from the above list and train a model on given sample dataset\n",
    "# initialize a list to store all trained models\n",
    "list_models = []\n",
    "for i in tqdm(range(k)):\n",
    "    # generate random number and get a classifier randomly from list_classifiers\n",
    "    idx = np.random.randint(0, len(list_classifiers))\n",
    "    clf = list_classifiers[idx]\n",
    "    # train a model with ith sample as input and target\n",
    "    clf.fit(list_input_data[i], list_target_data[i])\n",
    "    list_models.append(clf)\n",
    "    # print(list_models)"
   ]
  },
  {
   "cell_type": "markdown",
   "id": "52f354c5",
   "metadata": {},
   "source": [
    "#### Prediction of D2 targets with above trained models"
   ]
  },
  {
   "cell_type": "code",
   "execution_count": 32,
   "id": "da0a1ada",
   "metadata": {},
   "outputs": [],
   "source": [
    "def predict_targets(X):\n",
    "    # initiate a list to store all predictions\n",
    "    predict_labels = []\n",
    "\n",
    "    # iterate through each trained model and predict the targets for D2 data set with each model\n",
    "    for model in tqdm(list_models):\n",
    "        # predict the target labels for D2 with each trained model\n",
    "        predict_labels.append(model.predict(X))\n",
    "        \n",
    "    return predict_labels"
   ]
  },
  {
   "cell_type": "code",
   "execution_count": 50,
   "id": "aa22ff82",
   "metadata": {},
   "outputs": [
    {
     "name": "stderr",
     "output_type": "stream",
     "text": [
      "100%|██████████| 100/100 [01:51<00:00,  1.12s/it]\n"
     ]
    }
   ],
   "source": [
    "predict_labels = predict_targets(X_d2_final)"
   ]
  },
  {
   "cell_type": "code",
   "execution_count": 51,
   "id": "66d26480",
   "metadata": {},
   "outputs": [
    {
     "data": {
      "text/plain": [
       "((16296, 100), (16296,))"
      ]
     },
     "execution_count": 51,
     "metadata": {},
     "output_type": "execute_result"
    }
   ],
   "source": [
    "# create a meta dataset for training meta model from D2\n",
    "D_meta_train = np.transpose(np.asarray(predict_labels))\n",
    "D_meta_train.shape, y_d2.shape"
   ]
  },
  {
   "cell_type": "markdown",
   "id": "95f5cc3a",
   "metadata": {},
   "source": [
    "#### Create test meta dataset for evaluation"
   ]
  },
  {
   "cell_type": "code",
   "execution_count": 52,
   "id": "10313564",
   "metadata": {},
   "outputs": [
    {
     "name": "stderr",
     "output_type": "stream",
     "text": [
      "100%|██████████| 100/100 [00:56<00:00,  1.78it/s]\n"
     ]
    }
   ],
   "source": [
    "predict_labels_test = predict_targets(X_test_final)"
   ]
  },
  {
   "cell_type": "code",
   "execution_count": 53,
   "id": "4b30c69d",
   "metadata": {},
   "outputs": [
    {
     "data": {
      "text/plain": [
       "((8148, 100), (8148,))"
      ]
     },
     "execution_count": 53,
     "metadata": {},
     "output_type": "execute_result"
    }
   ],
   "source": [
    "# create a meta dataset for evaluation from test data\n",
    "D_meta_test = np.transpose(np.asarray(predict_labels_test))\n",
    "D_meta_test.shape, y_test.shape"
   ]
  },
  {
   "cell_type": "markdown",
   "id": "improved-serum",
   "metadata": {},
   "source": [
    "### Meta Model - LGBM"
   ]
  },
  {
   "cell_type": "code",
   "execution_count": 260,
   "id": "f116c6dd",
   "metadata": {},
   "outputs": [],
   "source": [
    "# %%time\n",
    "# # max_depth, min_samples_split, min_samples_leaf\n",
    "# params = { 'max_depth': [8, 9, 10], 'learning_rate': [0.01, 0.1]} #, 'num_leaves': [256, 512, 1024]\n",
    "\n",
    "# lgbm_clf = LGBMClassifier(class_weight='balanced', random_state=10, n_jobs=-1)\n",
    "\n",
    "# grid_lgbm_CV = GridSearchCV(lgbm_clf, params, scoring='f1', cv=5, verbose=4, n_jobs=-1)\n",
    "# grid_lgbm_CV.fit(D_meta_train, y_d2)\n",
    "\n",
    "# print('Best F1 score for CatBoost Classifier: ', grid_lgbm_CV.best_score_)\n",
    "# print('Best Params for CatBoost Classifier: ', grid_lgbm_CV.best_params_)"
   ]
  },
  {
   "cell_type": "code",
   "execution_count": 54,
   "id": "external-forty",
   "metadata": {},
   "outputs": [
    {
     "data": {
      "text/plain": [
       "LGBMClassifier(class_weight='balanced', random_state=10)"
      ]
     },
     "execution_count": 54,
     "metadata": {},
     "output_type": "execute_result"
    }
   ],
   "source": [
    "lgbm_meta_clf = LGBMClassifier(class_weight='balanced', random_state=10)\n",
    "\n",
    "lgbm_meta_clf.fit(D_meta_train, y_d2)"
   ]
  },
  {
   "cell_type": "code",
   "execution_count": 64,
   "id": "40c1772a",
   "metadata": {},
   "outputs": [
    {
     "data": {
      "text/plain": [
       "['meta_model.pkl']"
      ]
     },
     "execution_count": 64,
     "metadata": {},
     "output_type": "execute_result"
    }
   ],
   "source": [
    "joblib.dump(lgbm_meta_clf, 'meta_model.pkl')"
   ]
  },
  {
   "cell_type": "markdown",
   "id": "recognized-touch",
   "metadata": {},
   "source": [
    "##### Performance Analysis - Confusion matrix, Accuracy, AUC, F1 Score, LIFT"
   ]
  },
  {
   "cell_type": "code",
   "execution_count": 55,
   "id": "anticipated-triple",
   "metadata": {
    "scrolled": false
   },
   "outputs": [
    {
     "name": "stdout",
     "output_type": "stream",
     "text": [
      "Model Accuracy:  0.8628497790868925\n"
     ]
    },
    {
     "data": {
      "image/png": "[encoded data removed]",
      "text/plain": [
       "<Figure size 432x288 with 2 Axes>"
      ]
     },
     "metadata": {
      "needs_background": "light"
     },
     "output_type": "display_data"
    }
   ],
   "source": [
    "y_train_pred, train_acc, tr_tn, tr_fp, tr_fn, tr_tp = print_confusion_matrix_accuracy(lgbm_meta_clf, D_meta_train, y_d2)"
   ]
  },
  {
   "cell_type": "code",
   "execution_count": 56,
   "id": "97f74df7",
   "metadata": {
    "scrolled": true
   },
   "outputs": [
    {
     "name": "stdout",
     "output_type": "stream",
     "text": [
      "Model Accuracy:  0.865365733922435\n"
     ]
    },
    {
     "data": {
      "image/png": "[encoded data removed]",
      "text/plain": [
       "<Figure size 432x288 with 2 Axes>"
      ]
     },
     "metadata": {
      "needs_background": "light"
     },
     "output_type": "display_data"
    }
   ],
   "source": [
    "y_test_pred, test_acc, te_tn, te_fp, te_fn, te_tp = print_confusion_matrix_accuracy(lgbm_meta_clf, D_meta_test, y_test)"
   ]
  },
  {
   "cell_type": "code",
   "execution_count": 57,
   "id": "611a5694",
   "metadata": {
    "scrolled": true
   },
   "outputs": [
    {
     "name": "stdout",
     "output_type": "stream",
     "text": [
      "From the above confusion matrix, by targetting  23 % of the leads, we can acheive  90 % of the conversion rate. \n"
     ]
    }
   ],
   "source": [
    "print(\"From the above confusion matrix, by targetting \", round(100 * (te_fp + te_tp) / (te_tn + te_fp + te_fn + te_tp)), \"% of the leads, we can acheive \", \\\n",
    "      round((100 * te_tp) / (te_fn + te_tp)), \"% of the conversion rate. \")"
   ]
  },
  {
   "cell_type": "code",
   "execution_count": 58,
   "id": "superior-employee",
   "metadata": {
    "scrolled": true
   },
   "outputs": [
    {
     "data": {
      "image/png": "[encoded data removed]",
      "text/plain": [
       "<Figure size 432x288 with 1 Axes>"
      ]
     },
     "metadata": {
      "needs_background": "light"
     },
     "output_type": "display_data"
    }
   ],
   "source": [
    "y_train_pred_prob, y_test_pred_prob, train_auc, test_auc = plot_auc(lgbm_meta_clf, D_meta_train, D_meta_test, y_d2, y_test)"
   ]
  },
  {
   "cell_type": "code",
   "execution_count": 59,
   "id": "disturbed-aluminum",
   "metadata": {},
   "outputs": [
    {
     "name": "stdout",
     "output_type": "stream",
     "text": [
      "Precision Score for class-0: 0.9860428231562253 and class-1:  0.4525230602278893\n",
      "----------------------------------------------------------------------------------------------------\n",
      "Recall Score for class-0: 0.8603653473567673 and class-1: 0.9045553145336226\n",
      "----------------------------------------------------------------------------------------------------\n",
      "F1 Score for class-0: 0.9189269085802972 and class-1: 0.6032549728752261\n"
     ]
    }
   ],
   "source": [
    "prec, rec, f1 = precision_recall_f1(y_test, y_test_pred)"
   ]
  },
  {
   "cell_type": "code",
   "execution_count": 60,
   "id": "known-folder",
   "metadata": {},
   "outputs": [
    {
     "data": {
      "text/plain": [
       "0.9383947939262473"
      ]
     },
     "execution_count": 60,
     "metadata": {},
     "output_type": "execute_result"
    }
   ],
   "source": [
    "lift_index = get_lift_index(y_test, y_test_pred_prob)\n",
    "lift_index"
   ]
  },
  {
   "cell_type": "code",
   "execution_count": 45,
   "id": "starting-mixer",
   "metadata": {},
   "outputs": [
    {
     "data": {
      "image/png": "[encoded data removed]",
      "text/plain": [
       "<Figure size 432x288 with 1 Axes>"
      ]
     },
     "metadata": {
      "needs_background": "light"
     },
     "output_type": "display_data"
    }
   ],
   "source": [
    "plot_gain_curve(y_test, y_test_pred_prob, x=0.25, y=lift_index)"
   ]
  },
  {
   "cell_type": "markdown",
   "id": "latter-township",
   "metadata": {},
   "source": [
    "* From the above cumulative gain curve...\n",
    "    * Orange curve represents the cumulative gain for positive class.\n",
    "    * A green horizontal and vertical dashed lines are plotted to denote the point where gain curve begins to platue\n",
    "    * This intersection point tells us, with only 25% of the leads we can acheive 92.16% of the conversion rate."
   ]
  },
  {
   "cell_type": "code",
   "execution_count": 361,
   "id": "ee9dc7aa",
   "metadata": {},
   "outputs": [],
   "source": [
    "meta_metrics['LGBM'][k] = dict()\n",
    "meta_metrics['LGBM'][k]['trainacc'] = train_acc\n",
    "meta_metrics['LGBM'][k]['testacc'] = test_acc\n",
    "meta_metrics['LGBM'][k]['trainauc'] = train_auc\n",
    "meta_metrics['LGBM'][k]['testauc'] = test_auc\n",
    "meta_metrics['LGBM'][k]['prec'] = prec\n",
    "meta_metrics['LGBM'][k]['recal'] = rec\n",
    "meta_metrics['LGBM'][k]['f1'] = f1\n",
    "meta_metrics['LGBM'][k]['lift'] = lift_index\n",
    "meta_metrics['LGBM'][k]['per'] = 25"
   ]
  },
  {
   "cell_type": "markdown",
   "id": "ed3fdca5",
   "metadata": {},
   "source": [
    "### Meta Model - CatBoost"
   ]
  },
  {
   "cell_type": "code",
   "execution_count": 362,
   "id": "8c42959e",
   "metadata": {},
   "outputs": [
    {
     "data": {
      "text/plain": [
       "<catboost.core.CatBoostClassifier at 0x7fbfc6a479d0>"
      ]
     },
     "execution_count": 362,
     "metadata": {},
     "output_type": "execute_result"
    }
   ],
   "source": [
    "cat_meta_clf = CatBoostClassifier(class_weights=[0.13, 0.87], random_state=10, silent=True)\n",
    "\n",
    "cat_meta_clf.fit(D_meta_train, y_d2)"
   ]
  },
  {
   "cell_type": "markdown",
   "id": "8b049b6a",
   "metadata": {},
   "source": [
    "##### Performance Analysis - Confusion matrix, Accuracy, AUC, F1 Score, LIFT"
   ]
  },
  {
   "cell_type": "code",
   "execution_count": 363,
   "id": "5adc0dfc",
   "metadata": {
    "scrolled": false
   },
   "outputs": [
    {
     "name": "stdout",
     "output_type": "stream",
     "text": [
      "Model Accuracy:  0.8476313205694649\n"
     ]
    },
    {
     "data": {
      "image/png": "[encoded data removed]",
      "text/plain": [
       "<Figure size 432x288 with 2 Axes>"
      ]
     },
     "metadata": {
      "needs_background": "light"
     },
     "output_type": "display_data"
    }
   ],
   "source": [
    "y_train_pred, train_acc, tr_tn, tr_fp, tr_fn, tr_tp = print_confusion_matrix_accuracy(cat_meta_clf, D_meta_train, y_d2)"
   ]
  },
  {
   "cell_type": "code",
   "execution_count": 337,
   "id": "b2245bc3",
   "metadata": {
    "scrolled": true
   },
   "outputs": [
    {
     "name": "stdout",
     "output_type": "stream",
     "text": [
      "Model Accuracy:  0.8645066273932254\n"
     ]
    },
    {
     "data": {
      "image/png": "[encoded data removed]",
      "text/plain": [
       "<Figure size 432x288 with 2 Axes>"
      ]
     },
     "metadata": {
      "needs_background": "light"
     },
     "output_type": "display_data"
    }
   ],
   "source": [
    "y_test_pred, test_acc, te_tn, te_fp, te_fn, te_tp = print_confusion_matrix_accuracy(cat_meta_clf, D_meta_test, y_test)"
   ]
  },
  {
   "cell_type": "code",
   "execution_count": 364,
   "id": "678236b6",
   "metadata": {
    "scrolled": true
   },
   "outputs": [
    {
     "name": "stdout",
     "output_type": "stream",
     "text": [
      "From the above confusion matrix, by targetting  25 % of the leads, we can acheive  92 % of the conversion rate. \n"
     ]
    }
   ],
   "source": [
    "print(\"From the above confusion matrix, by targetting \", round(100 * (te_fp + te_tp) / (te_tn + te_fp + te_fn + te_tp)), \"% of the leads, we can acheive \", \\\n",
    "      round((100 * te_tp) / (te_fn + te_tp)), \"% of the conversion rate. \")"
   ]
  },
  {
   "cell_type": "code",
   "execution_count": 365,
   "id": "d1b41bcd",
   "metadata": {
    "scrolled": true
   },
   "outputs": [
    {
     "data": {
      "image/png": "[encoded data removed]",
      "text/plain": [
       "<Figure size 432x288 with 1 Axes>"
      ]
     },
     "metadata": {
      "needs_background": "light"
     },
     "output_type": "display_data"
    }
   ],
   "source": [
    "y_train_pred_prob, y_test_pred_prob, train_auc, test_auc = plot_auc(cat_meta_clf, D_meta_train, D_meta_test, y_d2, y_test)"
   ]
  },
  {
   "cell_type": "code",
   "execution_count": 366,
   "id": "a7997db5",
   "metadata": {},
   "outputs": [
    {
     "name": "stdout",
     "output_type": "stream",
     "text": [
      "Precision Score for class-0: 0.9879694358640871 and class-1:  0.4246369554331497\n",
      "----------------------------------------------------------------------------------------------------\n",
      "Recall Score for class-0: 0.8409908663160808 and class-1: 0.9197396963123644\n",
      "----------------------------------------------------------------------------------------------------\n",
      "F1 Score for class-0: 0.9085744187785003 and class-1: 0.5810208975676602\n"
     ]
    }
   ],
   "source": [
    "prec, rec, f1 = precision_recall_f1(y_test, y_test_pred)"
   ]
  },
  {
   "cell_type": "code",
   "execution_count": 367,
   "id": "557ed88c",
   "metadata": {},
   "outputs": [
    {
     "data": {
      "text/plain": [
       "0.9213665943600867"
      ]
     },
     "execution_count": 367,
     "metadata": {},
     "output_type": "execute_result"
    }
   ],
   "source": [
    "lift_index = get_lift_index(y_test, y_test_pred_prob)\n",
    "lift_index"
   ]
  },
  {
   "cell_type": "code",
   "execution_count": 369,
   "id": "24267efc",
   "metadata": {},
   "outputs": [
    {
     "data": {
      "image/png": "[encoded data removed]",
      "text/plain": [
       "<Figure size 432x288 with 1 Axes>"
      ]
     },
     "metadata": {
      "needs_background": "light"
     },
     "output_type": "display_data"
    }
   ],
   "source": [
    "plot_gain_curve(y_test, y_test_pred_prob, x=0.25, y=lift_index)"
   ]
  },
  {
   "cell_type": "markdown",
   "id": "27ef3a87",
   "metadata": {},
   "source": [
    "* From the above cumulative gain curve...\n",
    "    * Orange curve represents the cumulative gain for positive class.\n",
    "    * A green horizontal and vertical dashed lines are plotted to denote the point where gain curve begins to platue\n",
    "    * This intersection point tells us, with only 25% of the leads we can acheive 92.13% of the conversion rate."
   ]
  },
  {
   "cell_type": "code",
   "execution_count": 372,
   "id": "7d25cb48",
   "metadata": {},
   "outputs": [],
   "source": [
    "meta_metrics['CAT'][k] = dict()\n",
    "meta_metrics['CAT'][k]['trainacc'] = train_acc\n",
    "meta_metrics['CAT'][k]['testacc'] = test_acc\n",
    "meta_metrics['CAT'][k]['trainauc'] = train_auc\n",
    "meta_metrics['CAT'][k]['testauc'] = test_auc\n",
    "meta_metrics['CAT'][k]['prec'] = prec\n",
    "meta_metrics['CAT'][k]['recal'] = rec\n",
    "meta_metrics['CAT'][k]['f1'] = f1\n",
    "meta_metrics['CAT'][k]['lift'] = lift_index\n",
    "meta_metrics['CAT'][k]['per'] = 25"
   ]
  },
  {
   "cell_type": "markdown",
   "id": "510687f4",
   "metadata": {},
   "source": [
    "### Summary"
   ]
  },
  {
   "cell_type": "code",
   "execution_count": 373,
   "id": "58ba10b4",
   "metadata": {},
   "outputs": [
    {
     "name": "stdout",
     "output_type": "stream",
     "text": [
      "| Clf   |   K |   Tr. Acc |   Test Acc |   Tr. AUC |   Test AUC |   Precision |   Recall |       F1 |   Lift Index |   % |\n",
      "|-------+-----+-----------+------------+-----------+------------+-------------+----------+----------+--------------+-----|\n",
      "| LGBM  |  50 |  0.847386 |   0.849902 |  0.916208 |   0.921974 |    0.424637 | 0.91974  | 0.581021 |     0.921692 |  25 |\n",
      "| LGBM  | 100 |  0.846281 |   0.84487  |  0.918074 |   0.919045 |    0.416094 | 0.91974  | 0.572973 |     0.937744 |  26 |\n",
      "| LGBM  | 150 |  0.864691 |   0.867452 |  0.918855 |   0.923294 |    0.456498 | 0.899132 | 0.605551 |     0.936117 |  26 |\n",
      "| LGBM  | 200 |  0.852786 |   0.85162  |  0.91865  |   0.918682 |    0.427268 | 0.914317 | 0.582383 |     0.916377 |  24 |\n",
      "| CAT   |  50 |  0.847631 |   0.849902 |  0.916323 |   0.921805 |    0.424637 | 0.91974  | 0.581021 |     0.921367 |  25 |\n",
      "| CAT   | 100 |  0.863525 |   0.864507 |  0.918518 |   0.917216 |    0.451023 | 0.908894 | 0.602878 |     0.931887 |  26 |\n",
      "| CAT   | 150 |  0.865427 |   0.868311 |  0.919097 |   0.923497 |    0.458172 | 0.896963 | 0.606527 |     0.931128 |  26 |\n",
      "| CAT   | 200 |  0.852786 |   0.85162  |  0.91865  |   0.918682 |    0.427268 | 0.914317 | 0.582383 |     0.916377 |  24 |\n"
     ]
    }
   ],
   "source": [
    "from tabulate import tabulate\n",
    "heads = ['Clf', 'K', 'Tr. Acc', 'Test Acc', 'Tr. AUC', 'Test AUC', \\\n",
    "         'Precision', 'Recall', 'F1', 'Lift Index', '%']\n",
    "\n",
    "data_table = []\n",
    "for clf in meta_metrics:\n",
    "    for K in meta_metrics[clf]:\n",
    "        data_table.append([clf, K, meta_metrics[clf][K]['trainacc'], meta_metrics[clf][K]['testacc'],\n",
    "                       meta_metrics[clf][K]['trainauc'], meta_metrics[clf][K]['testauc'],\n",
    "                       meta_metrics[clf][K]['prec'][1], meta_metrics[clf][K]['recal'][1], \n",
    "                       meta_metrics[clf][K]['f1'][1], meta_metrics[clf][K]['lift'], meta_metrics[clf][K]['per']])\n",
    "\n",
    "print(tabulate(data_table, heads, tablefmt='orgtbl'))"
   ]
  },
  {
   "cell_type": "markdown",
   "id": "6e7536a7",
   "metadata": {},
   "source": [
    "* Above is the comparison table - Hyper parameter tuning for number of base learners  \n",
    "    * Recall is highest at K = 50 for both LGBM and CatBoost models\n",
    "    * Lift Index is highest at K = 100 and K = 150 in LGBM\n",
    "    * There is no overfit in any of the models\n",
    "\n",
    "* We can choose the LGBM with K = 100 as best model, we can acheive 93.7% conversion rate by targetting 26% of the total leads"
   ]
  },
  {
   "cell_type": "code",
   "execution_count": null,
   "id": "29eb63f9",
   "metadata": {},
   "outputs": [],
   "source": []
  }
 ],
 "metadata": {
  "kernelspec": {
   "display_name": "Python 3",
   "language": "python",
   "name": "python3"
  },
  "language_info": {
   "codemirror_mode": {
    "name": "ipython",
    "version": 3
   },
   "file_extension": ".py",
   "mimetype": "text/x-python",
   "name": "python",
   "nbconvert_exporter": "python",
   "pygments_lexer": "ipython3",
   "version": "3.7.10"
  }
 },
 "nbformat": 4,
 "nbformat_minor": 5
}
