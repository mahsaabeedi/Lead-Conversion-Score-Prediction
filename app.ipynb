{
 "cells": [
  {
   "cell_type": "code",
   "execution_count": 2,
   "id": "3c7521c0",
   "metadata": {},
   "outputs": [],
   "source": [
    "from flask import Flask, jsonify, request\n",
    "import pandas as pd\n",
    "import numpy as np\n",
    "import joblib\n",
    "import time"
   ]
  },
  {
   "cell_type": "code",
   "execution_count": 6,
   "id": "f74d7e58",
   "metadata": {},
   "outputs": [],
   "source": [
    "app = Flask(__name__)"
   ]
  },
  {
   "cell_type": "code",
   "execution_count": 8,
   "id": "0cbba8bc",
   "metadata": {},
   "outputs": [],
   "source": [
    "# prepare input for base learners\n",
    "def prepare_input(X_q):\n",
    "    \"\"\"This function preprocess the data and construct the input features for base learners \n",
    "    using trained scaler for numerical features and one hot encoder for categorical features \"\"\"\n",
    "    \n",
    "    # define the categorical & numerical features which are taken for training the model\n",
    "    cat_features = ['job', 'marital', 'education', 'default', 'housing', 'loan', 'contact', 'month', 'day_of_week', 'poutcome']\n",
    "    num_features = ['age', 'duration', 'campaign', 'pdays', 'previous', 'cons.price.idx', 'cons.conf.idx', 'nr.employed']\n",
    "    \n",
    "    # load standard scaler from pickle file\n",
    "    scaler = joblib.load('num_features_scaler.pkl')\n",
    "    # load trained onehotencoder for categorical features\n",
    "    cat_features_ohe = joblib.load('cat_features_ohe.pkl')\n",
    "    \n",
    "    # tranform the numerical features with trained standard scaler and convert it into a dataframe for further use\n",
    "    X_q_num = pd.DataFrame(scaler.transform(X_q[num_features]), columns=num_features)\n",
    "    # print(X_q_num, type(X_q_num))\n",
    "    \n",
    "    # tranform the categorical features with trained onehotencoder and convert it into a dataframe for further use\n",
    "    X_q_ohe = cat_features_ohe.transform(X_q[cat_features])\n",
    "    # print(X_q_ohe)\n",
    "    cat_feature_labels_ohe = np.concatenate(cat_features_ohe.categories_).ravel().tolist()\n",
    "    X_q_ohe = pd.DataFrame(X_q_ohe.toarray(), columns=cat_feature_labels_ohe)\n",
    "    # print(type(X_q_ohe), type(X_q_num))\n",
    "    \n",
    "    # merge both numerical feature set and categorical feature set\n",
    "    X_q_final = pd.concat([X_q_ohe, X_q_num], axis=1)\n",
    "    \n",
    "    # print(X_q_final)\n",
    "    return X_q_final"
   ]
  },
  {
   "cell_type": "code",
   "execution_count": null,
   "id": "1881adb1",
   "metadata": {},
   "outputs": [],
   "source": [
    "@app.route('/predict', methods=['POST'])\n",
    "def final_predict(X_q, y=''):\n",
    "    \"\"\"This function predcts target label for query instance, the prediction is from trained meta model \"\"\"    \n",
    "    \n",
    "    start_time = time.time()\n",
    "\n",
    "    # get the form inputs through request\n",
    "    form_inputs = request.form.to_dict()\n",
    "    print(form_inputs)\n",
    "    \n",
    "    return True\n",
    "    \n",
    "    # data pre processing and prepare the input to predict through meta model\n",
    "    X_input = prepare_input(X_q)\n",
    "    \n",
    "    # load the trained base models from pickle file\n",
    "    base_models = joblib.load('base_learners.pkl')\n",
    "    # print(base_models)\n",
    "    \n",
    "    # initiate list for storing the predictions from each base learner for given query point\n",
    "    input_for_meta = []\n",
    "    # predictions from base learners\n",
    "    for model in base_models:\n",
    "        input_for_meta.append(model.predict(X_input))\n",
    "        \n",
    "    # construct the input to meta model from base learners predictions\n",
    "    input_for_meta = np.transpose(np.asarray(input_for_meta))\n",
    "    # load trained meta model from pickle file \n",
    "    meta_model = joblib.load('meta_model.pkl')\n",
    "    # final prediction\n",
    "    final_prediction = meta_model.predict(input_for_meta)\n",
    "    \n",
    "    # print(final_prediction)\n",
    "    if final_prediction:\n",
    "        prediction = 'Positive'\n",
    "    else:\n",
    "        prediction = 'Negative'\n",
    "    \n",
    "    end_time = time.time()\n",
    "    \n",
    "    # computing the time taken for predicting the target label\n",
    "    time_for_prediction = str(end_time - start_time) + ' seconds'\n",
    "    \n",
    "    # handling true label\n",
    "    y = 'Positive' if y==1 else 'Negative'\n",
    "    \n",
    "    response = jsonify({'prediction': prediction, 'True label': y, 'Time taken for Prediction': time_for_prediction})\n",
    "    # return predicted label, time taken for predicting and the original target label if passed as input\n",
    "    return response"
   ]
  },
  {
   "cell_type": "code",
   "execution_count": 10,
   "id": "c564bfab",
   "metadata": {},
   "outputs": [],
   "source": [
    "@app.route('/index')\n",
    "def index():\n",
    "    return flask.render_template('index.html')"
   ]
  },
  {
   "cell_type": "code",
   "execution_count": 13,
   "id": "b76da3ce",
   "metadata": {},
   "outputs": [],
   "source": [
    "@app.route('/')\n",
    "def welcome():\n",
    "    return 'Welcome to the Lead Score Prediction home page'"
   ]
  },
  {
   "cell_type": "code",
   "execution_count": 12,
   "id": "2b358c68",
   "metadata": {},
   "outputs": [],
   "source": [
    "if __name__ == '__main__':\n",
    "    app.run(host='0.0.0.0', port=5050)"
   ]
  },
  {
   "cell_type": "code",
   "execution_count": 5,
   "id": "ace79915",
   "metadata": {},
   "outputs": [],
   "source": [
    "data = pd.read_csv('bank-additional-full.csv', ';')"
   ]
  },
  {
   "cell_type": "code",
   "execution_count": 8,
   "id": "0668dad5",
   "metadata": {},
   "outputs": [
    {
     "data": {
      "text/plain": [
       "0        0\n",
       "1        0\n",
       "2        0\n",
       "3        0\n",
       "4        0\n",
       "        ..\n",
       "41183    0\n",
       "41184    0\n",
       "41185    0\n",
       "41186    0\n",
       "41187    1\n",
       "Name: previous, Length: 41188, dtype: int64"
      ]
     },
     "execution_count": 8,
     "metadata": {},
     "output_type": "execute_result"
    }
   ],
   "source": [
    "data.previous"
   ]
  },
  {
   "cell_type": "code",
   "execution_count": 35,
   "id": "da0703da",
   "metadata": {},
   "outputs": [
    {
     "data": {
      "text/html": [
       "<div>\n",
       "<style scoped>\n",
       "    .dataframe tbody tr th:only-of-type {\n",
       "        vertical-align: middle;\n",
       "    }\n",
       "\n",
       "    .dataframe tbody tr th {\n",
       "        vertical-align: top;\n",
       "    }\n",
       "\n",
       "    .dataframe thead th {\n",
       "        text-align: right;\n",
       "    }\n",
       "</style>\n",
       "<table border=\"1\" class=\"dataframe\">\n",
       "  <thead>\n",
       "    <tr style=\"text-align: right;\">\n",
       "      <th></th>\n",
       "      <th>age</th>\n",
       "      <th>job</th>\n",
       "      <th>marital</th>\n",
       "      <th>education</th>\n",
       "      <th>default</th>\n",
       "      <th>housing</th>\n",
       "      <th>loan</th>\n",
       "      <th>contact</th>\n",
       "      <th>month</th>\n",
       "      <th>day_of_week</th>\n",
       "      <th>duration</th>\n",
       "      <th>campaign</th>\n",
       "      <th>pdays</th>\n",
       "      <th>previous</th>\n",
       "      <th>poutcome</th>\n",
       "      <th>emp.var.rate</th>\n",
       "      <th>cons.price.idx</th>\n",
       "      <th>cons.conf.idx</th>\n",
       "      <th>nr.employed</th>\n",
       "    </tr>\n",
       "  </thead>\n",
       "  <tbody>\n",
       "    <tr>\n",
       "      <th>0</th>\n",
       "      <td>34</td>\n",
       "      <td>blue-collar</td>\n",
       "      <td>married</td>\n",
       "      <td>professional.course</td>\n",
       "      <td>no</td>\n",
       "      <td>no</td>\n",
       "      <td>yes</td>\n",
       "      <td>cellular</td>\n",
       "      <td>mar</td>\n",
       "      <td>fri</td>\n",
       "      <td>600</td>\n",
       "      <td>2</td>\n",
       "      <td>999</td>\n",
       "      <td>0</td>\n",
       "      <td>nonexistent</td>\n",
       "      <td>0.081886</td>\n",
       "      <td>93.575664</td>\n",
       "      <td>-40.502600</td>\n",
       "      <td>5167.035911</td>\n",
       "    </tr>\n",
       "  </tbody>\n",
       "</table>\n",
       "</div>"
      ],
      "text/plain": [
       "  age          job  marital            education default housing loan  \\\n",
       "0  34  blue-collar  married  professional.course      no      no  yes   \n",
       "\n",
       "    contact month day_of_week duration campaign pdays previous     poutcome  \\\n",
       "0  cellular   mar         fri      600        2   999        0  nonexistent   \n",
       "\n",
       "  emp.var.rate cons.price.idx cons.conf.idx  nr.employed  \n",
       "0     0.081886      93.575664    -40.502600  5167.035911  "
      ]
     },
     "execution_count": 35,
     "metadata": {},
     "output_type": "execute_result"
    }
   ],
   "source": [
    "req_form = {'name': 'Prasad', 'age': '34', 'job': 'blue-collar', 'marital': 'married', 'education': 'professional.course', 'default': 'no', 'housing': 'no', 'loan': 'yes', 'contact': 'cellular', 'month': 'mar', 'day_of_week': 'fri', 'duration': '600', 'campaign': '2', 'pdays': '999', 'previous': '0', 'poutcome': 'nonexistent', 'emp.var.rate': '0.081886', 'cons.price.idx': '93.575664', 'cons.conf.idx': '-40.502600', 'nr.employed': '5167.035911'}\n",
    "# print(list(req_form.values()))\n",
    "# print(req_form.keys())\n",
    "# print(np.asarray(list(req_form.values())).reshape(1,-1).shape)\n",
    "X_q = pd.DataFrame(np.asarray(list(req_form.values())).reshape(1,-1), columns=req_form.keys())\n",
    "X_q.drop('name', axis=1, inplace=True)\n",
    "(X_q)"
   ]
  },
  {
   "cell_type": "code",
   "execution_count": null,
   "id": "47639dea",
   "metadata": {},
   "outputs": [],
   "source": []
  }
 ],
 "metadata": {
  "kernelspec": {
   "display_name": "Python 3",
   "language": "python",
   "name": "python3"
  },
  "language_info": {
   "codemirror_mode": {
    "name": "ipython",
    "version": 3
   },
   "file_extension": ".py",
   "mimetype": "text/x-python",
   "name": "python",
   "nbconvert_exporter": "python",
   "pygments_lexer": "ipython3",
   "version": "3.7.10"
  }
 },
 "nbformat": 4,
 "nbformat_minor": 5
}
