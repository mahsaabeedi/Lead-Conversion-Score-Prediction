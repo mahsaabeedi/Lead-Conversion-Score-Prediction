{
 "cells": [
  {
   "cell_type": "code",
   "execution_count": null,
   "id": "ccd69454",
   "metadata": {
    "id": "ccd69454"
   },
   "outputs": [],
   "source": [
    "# importing required libraries\n",
    "import pandas as pd\n",
    "import numpy as np\n",
    "import joblib\n",
    "import time"
   ]
  },
  {
   "cell_type": "code",
   "execution_count": null,
   "id": "3834a8d6",
   "metadata": {
    "id": "3834a8d6"
   },
   "outputs": [],
   "source": [
    "# loading test data for testinng the prediction functions\n",
    "test = pd.read_csv('test.csv')\n",
    "# test.info()"
   ]
  },
  {
   "cell_type": "code",
   "execution_count": null,
   "id": "bbe5b41c",
   "metadata": {
    "id": "bbe5b41c",
    "scrolled": true
   },
   "outputs": [],
   "source": [
    "# test.head()"
   ]
  },
  {
   "cell_type": "code",
   "execution_count": null,
   "id": "f527f0ec",
   "metadata": {
    "id": "f527f0ec"
   },
   "outputs": [],
   "source": [
    "# test[test.y==1]"
   ]
  },
  {
   "cell_type": "code",
   "execution_count": null,
   "id": "36d2e13d",
   "metadata": {
    "id": "36d2e13d",
    "outputId": "448105a1-5d7e-440d-8d65-2384628e8946"
   },
   "outputs": [
    {
     "data": {
      "text/html": [
       "<div>\n",
       "<style scoped>\n",
       "    .dataframe tbody tr th:only-of-type {\n",
       "        vertical-align: middle;\n",
       "    }\n",
       "\n",
       "    .dataframe tbody tr th {\n",
       "        vertical-align: top;\n",
       "    }\n",
       "\n",
       "    .dataframe thead th {\n",
       "        text-align: right;\n",
       "    }\n",
       "</style>\n",
       "<table border=\"1\" class=\"dataframe\">\n",
       "  <thead>\n",
       "    <tr style=\"text-align: right;\">\n",
       "      <th></th>\n",
       "      <th>age</th>\n",
       "      <th>job</th>\n",
       "      <th>marital</th>\n",
       "      <th>education</th>\n",
       "      <th>default</th>\n",
       "      <th>housing</th>\n",
       "      <th>loan</th>\n",
       "      <th>contact</th>\n",
       "      <th>month</th>\n",
       "      <th>day_of_week</th>\n",
       "      <th>duration</th>\n",
       "      <th>campaign</th>\n",
       "      <th>pdays</th>\n",
       "      <th>previous</th>\n",
       "      <th>poutcome</th>\n",
       "      <th>cons.price.idx</th>\n",
       "      <th>cons.conf.idx</th>\n",
       "      <th>nr.employed</th>\n",
       "      <th>y</th>\n",
       "    </tr>\n",
       "  </thead>\n",
       "  <tbody>\n",
       "    <tr>\n",
       "      <th>8104</th>\n",
       "      <td>66</td>\n",
       "      <td>retired</td>\n",
       "      <td>married</td>\n",
       "      <td>basic.4y</td>\n",
       "      <td>default_no</td>\n",
       "      <td>housing_yes</td>\n",
       "      <td>loan_no</td>\n",
       "      <td>cellular</td>\n",
       "      <td>mar</td>\n",
       "      <td>thu</td>\n",
       "      <td>156</td>\n",
       "      <td>1</td>\n",
       "      <td>999</td>\n",
       "      <td>0</td>\n",
       "      <td>nonexistent</td>\n",
       "      <td>92.843</td>\n",
       "      <td>-50.0</td>\n",
       "      <td>5099.1</td>\n",
       "      <td>1</td>\n",
       "    </tr>\n",
       "  </tbody>\n",
       "</table>\n",
       "</div>"
      ],
      "text/plain": [
       "      age      job  marital education     default      housing     loan  \\\n",
       "8104   66  retired  married  basic.4y  default_no  housing_yes  loan_no   \n",
       "\n",
       "       contact month day_of_week  duration  campaign  pdays  previous  \\\n",
       "8104  cellular   mar         thu       156         1    999         0   \n",
       "\n",
       "         poutcome  cons.price.idx  cons.conf.idx  nr.employed  y  \n",
       "8104  nonexistent          92.843          -50.0       5099.1  1  "
      ]
     },
     "execution_count": 155,
     "metadata": {
      "tags": []
     },
     "output_type": "execute_result"
    }
   ],
   "source": [
    "# get any random instance from test data set to use as query point\n",
    "test_idx = np.random.randint(0, test.shape[0])\n",
    "\n",
    "X_q = pd.DataFrame(test.loc[test_idx:test_idx], columns=test.columns)\n",
    "X_q"
   ]
  },
  {
   "cell_type": "code",
   "execution_count": null,
   "id": "2caeb63e",
   "metadata": {
    "id": "2caeb63e"
   },
   "outputs": [],
   "source": [
    "# prepare input for base learners\n",
    "def prepare_input(X_q):\n",
    "    \"\"\"This function preprocess the data and construct the input features for base learners \n",
    "    using trained scaler for numerical features and one hot encoder for categorical features \"\"\"\n",
    "    \n",
    "    # define the categorical & numerical features which are taken for training the model\n",
    "    cat_features = ['job', 'marital', 'education', 'default', 'housing', 'loan', 'contact', 'month', 'day_of_week', 'poutcome']\n",
    "    num_features = ['age', 'duration', 'campaign', 'pdays', 'previous', 'cons.price.idx', 'cons.conf.idx', 'nr.employed']\n",
    "    \n",
    "    # convert all values to lower case for all categorical variables\n",
    "    for feature in cat_features:\n",
    "        X_q[feature] = X_q[feature].str.lower()\n",
    "        # When converting categorical features using one hot encoding / multiple columns are being named with same feature name\n",
    "        # which is not allowed in ensembles like xgboost, catboost and lgbm\n",
    "        X_q.loc[X_q[feature]=='unknown', feature] = feature+'_unknown'\n",
    "        X_q.loc[X_q[feature]=='no', feature] = feature+'_no'\n",
    "        X_q.loc[X_q[feature]=='yes', feature] = feature+'_yes'\n",
    "    \n",
    "    # load standard scaler from pickle file\n",
    "    scaler = joblib.load('num_features_scaler.pkl')\n",
    "    # load trained onehotencoder for categorical features\n",
    "    cat_features_ohe = joblib.load('cat_features_ohe.pkl')\n",
    "    \n",
    "    # tranform the numerical features with trained standard scaler and convert it into a dataframe for further use\n",
    "    X_q_num = pd.DataFrame(scaler.transform(X_q[num_features]), columns=num_features)\n",
    "    # print(X_q_num, type(X_q_num))\n",
    "    \n",
    "    # tranform the categorical features with trained onehotencoder and convert it into a dataframe for further use\n",
    "    X_q_ohe = cat_features_ohe.transform(X_q[cat_features])\n",
    "    # print(X_q_ohe)\n",
    "    cat_feature_labels_ohe = np.concatenate(cat_features_ohe.categories_).ravel().tolist()\n",
    "    X_q_ohe = pd.DataFrame(X_q_ohe.toarray(), columns=cat_feature_labels_ohe)\n",
    "    # print(type(X_q_ohe), type(X_q_num))\n",
    "    \n",
    "    # merge both numerical feature set and categorical feature set\n",
    "    X_q_final = pd.concat([X_q_ohe, X_q_num], axis=1)\n",
    "    \n",
    "    # print(X_q_final)\n",
    "    return X_q_final\n",
    "    "
   ]
  },
  {
   "cell_type": "code",
   "execution_count": null,
   "id": "784bbf50",
   "metadata": {
    "id": "784bbf50"
   },
   "outputs": [],
   "source": [
    "def final_predict(X_q, y=''):\n",
    "    \"\"\"This function predcts target label for query instance, the prediction is from trained meta model \"\"\"    \n",
    "    \n",
    "    start_time = time.time()\n",
    "    # data pre processing and prepare the input to predict through meta model\n",
    "    X_input = prepare_input(X_q)\n",
    "    \n",
    "    # load the trained base models from pickle file\n",
    "    base_models = joblib.load('base_learners.pkl')\n",
    "    # print(base_models)\n",
    "    \n",
    "    # initiate list for storing the predictions from each base learner for given query point\n",
    "    input_for_meta = []\n",
    "    # predictions from base learners\n",
    "    for model in base_models:\n",
    "        input_for_meta.append(model.predict(X_input))\n",
    "        \n",
    "    # construct the input to meta model from base learners predictions\n",
    "    input_for_meta = np.transpose(np.asarray(input_for_meta))\n",
    "    # load trained meta model from pickle file \n",
    "    meta_model = joblib.load('meta_model.pkl')\n",
    "    # final prediction\n",
    "    final_prediction = meta_model.predict(input_for_meta)\n",
    "    \n",
    "    # print(final_prediction)\n",
    "    if final_prediction:\n",
    "        prediction = 'Positive'\n",
    "    else:\n",
    "        prediction = 'Negative'\n",
    "    \n",
    "    end_time = time.time()\n",
    "    \n",
    "    # computing the time taken for predicting the target label\n",
    "    time_for_prediction = str(end_time - start_time) + ' seconds'\n",
    "    \n",
    "    # handling true label\n",
    "    y = 'Positive' if y==1 else 'Negative'\n",
    "    \n",
    "    # return predicted label, time taken for predicting and the original target label if passed as input\n",
    "    return prediction, time_for_prediction, y"
   ]
  },
  {
   "cell_type": "code",
   "execution_count": null,
   "id": "8b1748ce",
   "metadata": {
    "id": "8b1748ce",
    "outputId": "ed5490a4-49ff-4a29-e1b9-34a5d12743db"
   },
   "outputs": [
    {
     "name": "stdout",
     "output_type": "stream",
     "text": [
      "Final Prediction:  Positive\n",
      "Original target label:  Positive\n",
      "Time taken for prediction:  0.4806077480316162 seconds\n"
     ]
    }
   ],
   "source": [
    "final_prediction, time_for_prediction, true_label = final_predict(X_q, X_q.y.values[0])\n",
    "print('Final Prediction: ', final_prediction)\n",
    "print('Original target label: ', true_label)\n",
    "print('Time taken for prediction: ', time_for_prediction)"
   ]
  },
  {
   "cell_type": "code",
   "execution_count": null,
   "id": "d7e69e69",
   "metadata": {
    "id": "d7e69e69"
   },
   "outputs": [],
   "source": [
    ""
   ]
  }
 ],
 "metadata": {
  "colab": {
   "collapsed_sections": [],
   "name": "Final Notebook.ipynb",
   "provenance": []
  },
  "kernelspec": {
   "display_name": "Python 3",
   "language": "python",
   "name": "python3"
  },
  "language_info": {
   "codemirror_mode": {
    "name": "ipython",
    "version": 3
   },
   "file_extension": ".py",
   "mimetype": "text/x-python",
   "name": "python",
   "nbconvert_exporter": "python",
   "pygments_lexer": "ipython3",
   "version": "3.7.10"
  }
 },
 "nbformat": 4,
 "nbformat_minor": 5
}
